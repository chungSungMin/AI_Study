{
 "cells": [
  {
   "cell_type": "markdown",
   "metadata": {},
   "source": [
    "# 간단하게 Fashion MNIST를 활용해서 모델을 학습 시키는 코드 with Pytorch"
   ]
  },
  {
   "cell_type": "code",
   "execution_count": 1,
   "metadata": {},
   "outputs": [],
   "source": [
    "import torch\n",
    "from torch import nn\n",
    "import torch.nn.functional as F\n",
    "from torch.utils.data import DataLoader\n",
    "from torchvision import datasets\n",
    "from torchvision.transforms import ToTensor\n",
    "import matplotlib.pyplot as plt\n",
    "\n",
    "from tqdm import tqdm"
   ]
  },
  {
   "cell_type": "code",
   "execution_count": 2,
   "metadata": {},
   "outputs": [],
   "source": [
    "train_data = datasets.FashionMNIST(\n",
    "    root = 'data',\n",
    "    download=True,\n",
    "    train = True,\n",
    "    transform=ToTensor()\n",
    ")\n",
    "\n",
    "test_data = datasets.FashionMNIST(\n",
    "    root = 'data',\n",
    "    download=True,\n",
    "    train=False,\n",
    "    transform=ToTensor()\n",
    ")"
   ]
  },
  {
   "cell_type": "code",
   "execution_count": 3,
   "metadata": {},
   "outputs": [
    {
     "name": "stdout",
     "output_type": "stream",
     "text": [
      "The shape of X : torch.Size([64, 1, 28, 28])\n",
      "The type of y \": torch.int64\n"
     ]
    },
    {
     "data": {
      "image/png": "[encoded data removed]",
      "text/plain": [
       "<Figure size 640x480 with 1 Axes>"
      ]
     },
     "metadata": {},
     "output_type": "display_data"
    }
   ],
   "source": [
    "batch_size = 64\n",
    "\n",
    "train_dataloader = DataLoader(train_data, batch_size=batch_size)\n",
    "test_dataloader = DataLoader(test_data, batch_size=batch_size)\n",
    "\n",
    "for X, y in train_dataloader:\n",
    "    print(f'The shape of X : {X.shape}')\n",
    "    print(f'The type of y \": {y.dtype}')\n",
    "\n",
    "    # 64개의 데이터중에서 가장 처음 데이터를 시각화 한다.\n",
    "    image = X[0]\n",
    "    label = y[0]\n",
    "\n",
    "    if image.shape[0] == 1 :\n",
    "        image = image.squeeze(0)\n",
    "    else:\n",
    "        image = image.permute(1, 2, 0)\n",
    "\n",
    "    plt.imshow(image, cmap ='gray' if image.ndim == 2 else None)\n",
    "    plt.title(f'Label : {label}')\n",
    "    plt.show()\n",
    "\n",
    "    break\n",
    "\n"
   ]
  },
  {
   "attachments": {
    "image.png": {
     "image/png": "[encoded data removed]"
    }
   },
   "cell_type": "markdown",
   "metadata": {},
   "source": [
    "# Feature map 크기 구하기 공식\n",
    "![image.png](attachment:image.png)"
   ]
  },
  {
   "cell_type": "code",
   "execution_count": 4,
   "metadata": {},
   "outputs": [],
   "source": [
    "'''\n",
    "    Feature map 크기 구하기 \n",
    "\n",
    "    feature map 크기 = ( Input_size - Kernel_size + 2 * padding / stride ) + 1\n",
    "    아래 코드의 예시 input image의 크기가 28 * 28인경우)\n",
    "\n",
    "    forward에서의 featuremap 크기 변화\n",
    "    1) (28 - 3 + 2 * 1) / 1 + 1 = 28 이후 max pooling (2,2) kenerenl = 2, stride = 2 이기에\n",
    "    28 - 2 + 2 * 0 / 2 + 1  = 14\n",
    "\n",
    "    2) (14 - 3 + 2 * 1) / 1 + 1 = 14 이후 max pooling을 진행하여 7 * 7 의 feature map이 된다.\n",
    "    \n",
    "'''\n",
    "\n",
    "device = 'cuda' if torch.cuda.is_available() else 'cpu'\n",
    "\n",
    "class CNN(nn.Module):\n",
    "    def __init__(self):\n",
    "        super(CNN, self).__init__()\n",
    "        self.conv1 = nn.Conv2d(1, 32, kernel_size=3, padding=1)\n",
    "        self.conv2 = nn.Conv2d(32, 64, kernel_size=3, padding=1)\n",
    "        self.pool = nn.MaxPool2d(2, 2)\n",
    "        self.fc1 = nn.Linear(64 * 7 * 7, 128)\n",
    "        self.fc2 = nn.Linear(128, 10)\n",
    "\n",
    "    def forward(self, x):\n",
    "        x = self.pool(F.relu(self.conv1(x)))\n",
    "        x = self.pool(F.relu(self.conv2(x)))\n",
    "        x = x.view(-1, 64 * 7 * 7)  # Flatten the tensor\n",
    "        x = F.relu(self.fc1(x))\n",
    "        x = self.fc2(x)\n",
    "        return F.log_softmax(x, dim=1)"
   ]
  },
  {
   "cell_type": "code",
   "execution_count": 5,
   "metadata": {},
   "outputs": [
    {
     "name": "stdout",
     "output_type": "stream",
     "text": [
      "CNN(\n",
      "  (conv1): Conv2d(1, 32, kernel_size=(3, 3), stride=(1, 1), padding=(1, 1))\n",
      "  (conv2): Conv2d(32, 64, kernel_size=(3, 3), stride=(1, 1), padding=(1, 1))\n",
      "  (pool): MaxPool2d(kernel_size=2, stride=2, padding=0, dilation=1, ceil_mode=False)\n",
      "  (fc1): Linear(in_features=3136, out_features=128, bias=True)\n",
      "  (fc2): Linear(in_features=128, out_features=10, bias=True)\n",
      ")\n"
     ]
    }
   ],
   "source": [
    "model = CNN().to(device)\n",
    "print(model)"
   ]
  },
  {
   "cell_type": "code",
   "execution_count": 6,
   "metadata": {},
   "outputs": [],
   "source": [
    "loss_fn = nn.CrossEntropyLoss()\n",
    "optimizer = torch.optim.Adam(model.parameters(), lr = 1e-4)"
   ]
  },
  {
   "cell_type": "code",
   "execution_count": 7,
   "metadata": {},
   "outputs": [],
   "source": [
    "def train(train_dataloader, model, loss_fn, optimizer):\n",
    "    total_loss = 0\n",
    "    for X, y in tqdm(train_dataloader, desc = 'Training'):\n",
    "        X, y = X.to(device), y.to(device)\n",
    "        # print(f'X의 크기 : {X.shape}')\n",
    "        pred = model(X)\n",
    "        loss = loss_fn(pred, y)\n",
    "\n",
    "        loss.backward()\n",
    "        optimizer.step()\n",
    "        optimizer.zero_grad()\n",
    "\n",
    "        total_loss += loss.item()\n",
    "    print(f'Average Training loss : {total_loss  / len(train_dataloader)}')"
   ]
  },
  {
   "cell_type": "code",
   "execution_count": 8,
   "metadata": {},
   "outputs": [],
   "source": [
    "def test(test_dataloader, model, loss_fn):\n",
    "    model.eval()\n",
    "    total_loss, correct = 0, 0\n",
    "    num_samples = 0  # 테스트 샘플의 총 수를 계산하기 위한 변수\n",
    "\n",
    "    with torch.no_grad():\n",
    "        for X, y in tqdm(test_dataloader, desc='Testing'):\n",
    "            X, y = X.to(device), y.to(device)\n",
    "            pred = model(X)\n",
    "            loss = loss_fn(pred, y)\n",
    "            total_loss += loss.item()\n",
    "            correct += (pred.argmax(1) == y).type(torch.float).sum().item()\n",
    "            num_samples += y.size(0)  # 배치의 샘플 수를 더함\n",
    "\n",
    "    average_loss = total_loss / len(test_dataloader)  # 평균 손실\n",
    "    accuracy = correct / num_samples * 100  # 정확도 (퍼센트)\n",
    "\n",
    "    print(f'Average test loss: {average_loss:.4f}')\n",
    "    print(f'Accuracy: {accuracy:.2f}%')"
   ]
  },
  {
   "cell_type": "code",
   "execution_count": 9,
   "metadata": {},
   "outputs": [
    {
     "name": "stdout",
     "output_type": "stream",
     "text": [
      "Epoch 1\n",
      "-------------------------------\n"
     ]
    },
    {
     "name": "stderr",
     "output_type": "stream",
     "text": [
      "Training:   0%|          | 0/938 [00:00<?, ?it/s]"
     ]
    },
    {
     "name": "stdout",
     "output_type": "stream",
     "text": [
      "X의 크기 : torch.Size([64, 1, 28, 28])\n"
     ]
    },
    {
     "name": "stderr",
     "output_type": "stream",
     "text": [
      "Training:   0%|          | 3/938 [00:00<00:33, 28.13it/s]"
     ]
    },
    {
     "name": "stdout",
     "output_type": "stream",
     "text": [
      "X의 크기 : torch.Size([64, 1, 28, 28])\n",
      "X의 크기 : torch.Size([64, 1, 28, 28])\n",
      "X의 크기 : torch.Size([64, 1, 28, 28])\n",
      "X의 크기 : torch.Size([64, 1, 28, 28])\n",
      "X의 크기 : torch.Size([64, 1, 28, 28])\n",
      "X의 크기 : torch.Size([64, 1, 28, 28])\n",
      "X의 크기 : torch.Size([64, 1, 28, 28])\n"
     ]
    },
    {
     "name": "stderr",
     "output_type": "stream",
     "text": [
      "Training:   1%|          | 8/938 [00:00<00:24, 38.54it/s]"
     ]
    },
    {
     "name": "stdout",
     "output_type": "stream",
     "text": [
      "X의 크기 : torch.Size([64, 1, 28, 28])\n",
      "X의 크기 : torch.Size([64, 1, 28, 28])\n",
      "X의 크기 : torch.Size([64, 1, 28, 28])\n",
      "X의 크기 : torch.Size([64, 1, 28, 28])\n",
      "X의 크기 : torch.Size([64, 1, 28, 28])\n"
     ]
    },
    {
     "name": "stderr",
     "output_type": "stream",
     "text": [
      "Training:   1%|▏         | 13/938 [00:00<00:22, 40.78it/s]"
     ]
    },
    {
     "name": "stdout",
     "output_type": "stream",
     "text": [
      "X의 크기 : torch.Size([64, 1, 28, 28])\n",
      "X의 크기 : torch.Size([64, 1, 28, 28])\n",
      "X의 크기 : torch.Size([64, 1, 28, 28])\n",
      "X의 크기 : torch.Size([64, 1, 28, 28])\n"
     ]
    },
    {
     "name": "stderr",
     "output_type": "stream",
     "text": [
      "Training:   2%|▏         | 18/938 [00:00<00:21, 42.63it/s]"
     ]
    },
    {
     "name": "stdout",
     "output_type": "stream",
     "text": [
      "X의 크기 : torch.Size([64, 1, 28, 28])\n",
      "X의 크기 : torch.Size([64, 1, 28, 28])\n",
      "X의 크기 : torch.Size([64, 1, 28, 28])\n",
      "X의 크기 : torch.Size([64, 1, 28, 28])\n",
      "X의 크기 : torch.Size([64, 1, 28, 28])\n",
      "X의 크기 : torch.Size([64, 1, 28, 28])\n"
     ]
    },
    {
     "name": "stderr",
     "output_type": "stream",
     "text": [
      "Training:   2%|▏         | 23/938 [00:00<00:20, 44.01it/s]"
     ]
    },
    {
     "name": "stdout",
     "output_type": "stream",
     "text": [
      "X의 크기 : torch.Size([64, 1, 28, 28])\n",
      "X의 크기 : torch.Size([64, 1, 28, 28])\n",
      "X의 크기 : torch.Size([64, 1, 28, 28])\n",
      "X의 크기 : torch.Size([64, 1, 28, 28])\n"
     ]
    },
    {
     "name": "stderr",
     "output_type": "stream",
     "text": [
      "Training:   3%|▎         | 28/938 [00:00<00:20, 45.45it/s]"
     ]
    },
    {
     "name": "stdout",
     "output_type": "stream",
     "text": [
      "X의 크기 : torch.Size([64, 1, 28, 28])\n",
      "X의 크기 : torch.Size([64, 1, 28, 28])\n",
      "X의 크기 : torch.Size([64, 1, 28, 28])\n",
      "X의 크기 : torch.Size([64, 1, 28, 28])\n",
      "X의 크기 : torch.Size([64, 1, 28, 28])\n",
      "X의 크기 : torch.Size([64, 1, 28, 28])\n"
     ]
    },
    {
     "name": "stderr",
     "output_type": "stream",
     "text": [
      "Training:   4%|▎         | 33/938 [00:00<00:19, 46.80it/s]"
     ]
    },
    {
     "name": "stdout",
     "output_type": "stream",
     "text": [
      "X의 크기 : torch.Size([64, 1, 28, 28])\n",
      "X의 크기 : torch.Size([64, 1, 28, 28])\n",
      "X의 크기 : torch.Size([64, 1, 28, 28])\n",
      "X의 크기 : torch.Size([64, 1, 28, 28])\n"
     ]
    },
    {
     "name": "stderr",
     "output_type": "stream",
     "text": [
      "Training:   4%|▍         | 38/938 [00:00<00:18, 47.39it/s]"
     ]
    },
    {
     "name": "stdout",
     "output_type": "stream",
     "text": [
      "X의 크기 : torch.Size([64, 1, 28, 28])\n",
      "X의 크기 : torch.Size([64, 1, 28, 28])\n",
      "X의 크기 : torch.Size([64, 1, 28, 28])\n",
      "X의 크기 : torch.Size([64, 1, 28, 28])\n",
      "X의 크기 : torch.Size([64, 1, 28, 28])\n",
      "X의 크기 : torch.Size([64, 1, 28, 28])\n"
     ]
    },
    {
     "name": "stderr",
     "output_type": "stream",
     "text": [
      "Training:   5%|▍         | 43/938 [00:00<00:19, 45.24it/s]"
     ]
    },
    {
     "name": "stdout",
     "output_type": "stream",
     "text": [
      "X의 크기 : torch.Size([64, 1, 28, 28])\n",
      "X의 크기 : torch.Size([64, 1, 28, 28])\n",
      "X의 크기 : torch.Size([64, 1, 28, 28])\n"
     ]
    },
    {
     "name": "stderr",
     "output_type": "stream",
     "text": [
      "Training:   5%|▌         | 48/938 [00:01<00:20, 43.62it/s]"
     ]
    },
    {
     "name": "stdout",
     "output_type": "stream",
     "text": [
      "X의 크기 : torch.Size([64, 1, 28, 28])\n",
      "X의 크기 : torch.Size([64, 1, 28, 28])\n",
      "X의 크기 : torch.Size([64, 1, 28, 28])\n",
      "X의 크기 : torch.Size([64, 1, 28, 28])\n",
      "X의 크기 : torch.Size([64, 1, 28, 28])\n",
      "X의 크기 : torch.Size([64, 1, 28, 28])\n"
     ]
    },
    {
     "name": "stderr",
     "output_type": "stream",
     "text": [
      "Training:   6%|▌         | 53/938 [00:01<00:20, 42.93it/s]"
     ]
    },
    {
     "name": "stdout",
     "output_type": "stream",
     "text": [
      "X의 크기 : torch.Size([64, 1, 28, 28])\n",
      "X의 크기 : torch.Size([64, 1, 28, 28])\n",
      "X의 크기 : torch.Size([64, 1, 28, 28])\n"
     ]
    },
    {
     "name": "stderr",
     "output_type": "stream",
     "text": [
      "Training:   6%|▌         | 58/938 [00:01<00:20, 43.45it/s]"
     ]
    },
    {
     "name": "stdout",
     "output_type": "stream",
     "text": [
      "X의 크기 : torch.Size([64, 1, 28, 28])\n",
      "X의 크기 : torch.Size([64, 1, 28, 28])\n",
      "X의 크기 : torch.Size([64, 1, 28, 28])\n",
      "X의 크기 : torch.Size([64, 1, 28, 28])\n",
      "X의 크기 : torch.Size([64, 1, 28, 28])\n",
      "X의 크기 : torch.Size([64, 1, 28, 28])\n",
      "X의 크기 : torch.Size([64, 1, 28, 28])\n",
      "X의 크기 : torch.Size([64, 1, 28, 28])\n"
     ]
    },
    {
     "name": "stderr",
     "output_type": "stream",
     "text": [
      "Training:   7%|▋         | 63/938 [00:01<00:20, 42.54it/s]"
     ]
    },
    {
     "name": "stdout",
     "output_type": "stream",
     "text": [
      "X의 크기 : torch.Size([64, 1, 28, 28])\n",
      "X의 크기 : torch.Size([64, 1, 28, 28])\n",
      "X의 크기 : torch.Size([64, 1, 28, 28])\n",
      "X의 크기 : torch.Size([64, 1, 28, 28])\n",
      "X의 크기 : torch.Size([64, 1, 28, 28])\n"
     ]
    },
    {
     "name": "stderr",
     "output_type": "stream",
     "text": [
      "Training:   7%|▋         | 68/938 [00:01<00:20, 41.81it/s]"
     ]
    },
    {
     "name": "stdout",
     "output_type": "stream",
     "text": [
      "X의 크기 : torch.Size([64, 1, 28, 28])\n",
      "X의 크기 : torch.Size([64, 1, 28, 28])\n",
      "X의 크기 : torch.Size([64, 1, 28, 28])\n",
      "X의 크기 : torch.Size([64, 1, 28, 28])\n"
     ]
    },
    {
     "name": "stderr",
     "output_type": "stream",
     "text": [
      "Training:   8%|▊         | 73/938 [00:01<00:21, 40.87it/s]"
     ]
    },
    {
     "name": "stdout",
     "output_type": "stream",
     "text": [
      "X의 크기 : torch.Size([64, 1, 28, 28])\n",
      "X의 크기 : torch.Size([64, 1, 28, 28])\n",
      "X의 크기 : torch.Size([64, 1, 28, 28])\n",
      "X의 크기 : torch.Size([64, 1, 28, 28])\n",
      "X의 크기 : torch.Size([64, 1, 28, 28])\n"
     ]
    },
    {
     "name": "stderr",
     "output_type": "stream",
     "text": [
      "Training:   8%|▊         | 78/938 [00:01<00:22, 38.37it/s]"
     ]
    },
    {
     "name": "stdout",
     "output_type": "stream",
     "text": [
      "X의 크기 : torch.Size([64, 1, 28, 28])\n",
      "X의 크기 : torch.Size([64, 1, 28, 28])\n"
     ]
    },
    {
     "name": "stderr",
     "output_type": "stream",
     "text": [
      "Training:   9%|▉         | 83/938 [00:01<00:21, 39.83it/s]"
     ]
    },
    {
     "name": "stdout",
     "output_type": "stream",
     "text": [
      "X의 크기 : torch.Size([64, 1, 28, 28])\n",
      "X의 크기 : torch.Size([64, 1, 28, 28])\n",
      "X의 크기 : torch.Size([64, 1, 28, 28])\n",
      "X의 크기 : torch.Size([64, 1, 28, 28])\n",
      "X의 크기 : torch.Size([64, 1, 28, 28])\n",
      "X의 크기 : torch.Size([64, 1, 28, 28])\n",
      "X의 크기 : torch.Size([64, 1, 28, 28])\n",
      "X의 크기 : torch.Size([64, 1, 28, 28])\n",
      "X의 크기 : torch.Size([64, 1, 28, 28])\n"
     ]
    },
    {
     "name": "stderr",
     "output_type": "stream",
     "text": [
      "Training:   9%|▉         | 88/938 [00:02<00:21, 39.90it/s]"
     ]
    },
    {
     "name": "stdout",
     "output_type": "stream",
     "text": [
      "X의 크기 : torch.Size([64, 1, 28, 28])\n",
      "X의 크기 : torch.Size([64, 1, 28, 28])\n",
      "X의 크기 : torch.Size([64, 1, 28, 28])\n",
      "X의 크기 : torch.Size([64, 1, 28, 28])\n",
      "X의 크기 : torch.Size([64, 1, 28, 28])\n"
     ]
    },
    {
     "name": "stderr",
     "output_type": "stream",
     "text": [
      "Training:  10%|▉         | 93/938 [00:02<00:22, 37.16it/s]"
     ]
    },
    {
     "name": "stdout",
     "output_type": "stream",
     "text": [
      "X의 크기 : torch.Size([64, 1, 28, 28])\n",
      "X의 크기 : torch.Size([64, 1, 28, 28])\n"
     ]
    },
    {
     "name": "stderr",
     "output_type": "stream",
     "text": [
      "Training:  10%|█         | 98/938 [00:02<00:21, 39.17it/s]"
     ]
    },
    {
     "name": "stdout",
     "output_type": "stream",
     "text": [
      "X의 크기 : torch.Size([64, 1, 28, 28])\n",
      "X의 크기 : torch.Size([64, 1, 28, 28])\n",
      "X의 크기 : torch.Size([64, 1, 28, 28])\n",
      "X의 크기 : torch.Size([64, 1, 28, 28])\n",
      "X의 크기 : torch.Size([64, 1, 28, 28])\n",
      "X의 크기 : torch.Size([64, 1, 28, 28])\n",
      "X의 크기 : torch.Size([64, 1, 28, 28])\n",
      "X의 크기 : torch.Size([64, 1, 28, 28])\n"
     ]
    },
    {
     "name": "stderr",
     "output_type": "stream",
     "text": [
      "Training:  11%|█         | 103/938 [00:02<00:20, 41.11it/s]"
     ]
    },
    {
     "name": "stdout",
     "output_type": "stream",
     "text": [
      "X의 크기 : torch.Size([64, 1, 28, 28])\n",
      "X의 크기 : torch.Size([64, 1, 28, 28])\n"
     ]
    },
    {
     "name": "stderr",
     "output_type": "stream",
     "text": [
      "Training:  12%|█▏        | 108/938 [00:02<00:19, 42.34it/s]"
     ]
    },
    {
     "name": "stdout",
     "output_type": "stream",
     "text": [
      "X의 크기 : torch.Size([64, 1, 28, 28])\n",
      "X의 크기 : torch.Size([64, 1, 28, 28])\n",
      "X의 크기 : torch.Size([64, 1, 28, 28])\n",
      "X의 크기 : torch.Size([64, 1, 28, 28])\n",
      "X의 크기 : torch.Size([64, 1, 28, 28])\n",
      "X의 크기 : torch.Size([64, 1, 28, 28])\n",
      "X의 크기 : torch.Size([64, 1, 28, 28])\n",
      "X의 크기 : torch.Size([64, 1, 28, 28])\n"
     ]
    },
    {
     "name": "stderr",
     "output_type": "stream",
     "text": [
      "Training:  12%|█▏        | 113/938 [00:02<00:18, 43.47it/s]"
     ]
    },
    {
     "name": "stdout",
     "output_type": "stream",
     "text": [
      "X의 크기 : torch.Size([64, 1, 28, 28])\n",
      "X의 크기 : torch.Size([64, 1, 28, 28])\n"
     ]
    },
    {
     "name": "stderr",
     "output_type": "stream",
     "text": [
      "Training:  13%|█▎        | 118/938 [00:02<00:18, 43.90it/s]"
     ]
    },
    {
     "name": "stdout",
     "output_type": "stream",
     "text": [
      "X의 크기 : torch.Size([64, 1, 28, 28])\n",
      "X의 크기 : torch.Size([64, 1, 28, 28])\n",
      "X의 크기 : torch.Size([64, 1, 28, 28])\n",
      "X의 크기 : torch.Size([64, 1, 28, 28])\n",
      "X의 크기 : torch.Size([64, 1, 28, 28])\n",
      "X의 크기 : torch.Size([64, 1, 28, 28])\n",
      "X의 크기 : torch.Size([64, 1, 28, 28])\n"
     ]
    },
    {
     "name": "stderr",
     "output_type": "stream",
     "text": [
      "Training:  13%|█▎        | 123/938 [00:02<00:18, 43.07it/s]"
     ]
    },
    {
     "name": "stdout",
     "output_type": "stream",
     "text": [
      "X의 크기 : torch.Size([64, 1, 28, 28])\n",
      "X의 크기 : torch.Size([64, 1, 28, 28])\n"
     ]
    },
    {
     "name": "stderr",
     "output_type": "stream",
     "text": [
      "Training:  14%|█▎        | 128/938 [00:03<00:18, 44.24it/s]"
     ]
    },
    {
     "name": "stdout",
     "output_type": "stream",
     "text": [
      "X의 크기 : torch.Size([64, 1, 28, 28])\n",
      "X의 크기 : torch.Size([64, 1, 28, 28])\n",
      "X의 크기 : torch.Size([64, 1, 28, 28])\n",
      "X의 크기 : torch.Size([64, 1, 28, 28])\n",
      "X의 크기 : torch.Size([64, 1, 28, 28])\n",
      "X의 크기 : torch.Size([64, 1, 28, 28])\n",
      "X의 크기 : torch.Size([64, 1, 28, 28])\n",
      "X의 크기 : torch.Size([64, 1, 28, 28])\n"
     ]
    },
    {
     "name": "stderr",
     "output_type": "stream",
     "text": [
      "Training:  14%|█▍        | 133/938 [00:03<00:18, 44.50it/s]"
     ]
    },
    {
     "name": "stdout",
     "output_type": "stream",
     "text": [
      "X의 크기 : torch.Size([64, 1, 28, 28])\n",
      "X의 크기 : torch.Size([64, 1, 28, 28])\n"
     ]
    },
    {
     "name": "stderr",
     "output_type": "stream",
     "text": [
      "Training:  15%|█▍        | 138/938 [00:03<00:17, 45.43it/s]"
     ]
    },
    {
     "name": "stdout",
     "output_type": "stream",
     "text": [
      "X의 크기 : torch.Size([64, 1, 28, 28])\n",
      "X의 크기 : torch.Size([64, 1, 28, 28])\n",
      "X의 크기 : torch.Size([64, 1, 28, 28])\n",
      "X의 크기 : torch.Size([64, 1, 28, 28])\n",
      "X의 크기 : torch.Size([64, 1, 28, 28])\n",
      "X의 크기 : torch.Size([64, 1, 28, 28])\n",
      "X의 크기 : torch.Size([64, 1, 28, 28])\n",
      "X의 크기 : torch.Size([64, 1, 28, 28])\n"
     ]
    },
    {
     "name": "stderr",
     "output_type": "stream",
     "text": [
      "Training:  15%|█▌        | 143/938 [00:03<00:17, 45.18it/s]"
     ]
    },
    {
     "name": "stdout",
     "output_type": "stream",
     "text": [
      "X의 크기 : torch.Size([64, 1, 28, 28])\n",
      "X의 크기 : torch.Size([64, 1, 28, 28])\n"
     ]
    },
    {
     "name": "stderr",
     "output_type": "stream",
     "text": [
      "Training:  16%|█▌        | 148/938 [00:03<00:17, 45.85it/s]"
     ]
    },
    {
     "name": "stdout",
     "output_type": "stream",
     "text": [
      "X의 크기 : torch.Size([64, 1, 28, 28])\n",
      "X의 크기 : torch.Size([64, 1, 28, 28])\n",
      "X의 크기 : torch.Size([64, 1, 28, 28])\n",
      "X의 크기 : torch.Size([64, 1, 28, 28])\n",
      "X의 크기 : torch.Size([64, 1, 28, 28])\n",
      "X의 크기 : torch.Size([64, 1, 28, 28])\n",
      "X의 크기 : torch.Size([64, 1, 28, 28])\n",
      "X의 크기 : torch.Size([64, 1, 28, 28])\n"
     ]
    },
    {
     "name": "stderr",
     "output_type": "stream",
     "text": [
      "Training:  16%|█▋        | 153/938 [00:03<00:17, 45.36it/s]"
     ]
    },
    {
     "name": "stdout",
     "output_type": "stream",
     "text": [
      "X의 크기 : torch.Size([64, 1, 28, 28])\n",
      "X의 크기 : torch.Size([64, 1, 28, 28])\n",
      "X의 크기 : torch.Size([64, 1, 28, 28])\n",
      "X의 크기 : torch.Size([64, 1, 28, 28])\n",
      "X의 크기 : torch.Size([64, 1, 28, 28])\n",
      "X의 크기 : torch.Size([64, 1, 28, 28])\n"
     ]
    },
    {
     "name": "stderr",
     "output_type": "stream",
     "text": [
      "Training:  17%|█▋        | 158/938 [00:03<00:18, 41.23it/s]"
     ]
    },
    {
     "name": "stdout",
     "output_type": "stream",
     "text": [
      "X의 크기 : torch.Size([64, 1, 28, 28])\n",
      "X의 크기 : torch.Size([64, 1, 28, 28])\n"
     ]
    },
    {
     "name": "stderr",
     "output_type": "stream",
     "text": [
      "Training:  17%|█▋        | 163/938 [00:03<00:18, 42.24it/s]"
     ]
    },
    {
     "name": "stdout",
     "output_type": "stream",
     "text": [
      "X의 크기 : torch.Size([64, 1, 28, 28])\n",
      "X의 크기 : torch.Size([64, 1, 28, 28])\n",
      "X의 크기 : torch.Size([64, 1, 28, 28])\n",
      "X의 크기 : torch.Size([64, 1, 28, 28])\n",
      "X의 크기 : torch.Size([64, 1, 28, 28])\n",
      "X의 크기 : torch.Size([64, 1, 28, 28])\n",
      "X의 크기 : torch.Size([64, 1, 28, 28])\n",
      "X의 크기 : torch.Size([64, 1, 28, 28])\n"
     ]
    },
    {
     "name": "stderr",
     "output_type": "stream",
     "text": [
      "Training:  18%|█▊        | 168/938 [00:03<00:17, 43.43it/s]"
     ]
    },
    {
     "name": "stdout",
     "output_type": "stream",
     "text": [
      "X의 크기 : torch.Size([64, 1, 28, 28])\n",
      "X의 크기 : torch.Size([64, 1, 28, 28])\n",
      "X의 크기 : torch.Size([64, 1, 28, 28])\n",
      "X의 크기 : torch.Size([64, 1, 28, 28])\n",
      "X의 크기 : torch.Size([64, 1, 28, 28])\n"
     ]
    },
    {
     "name": "stderr",
     "output_type": "stream",
     "text": [
      "Training:  18%|█▊        | 173/938 [00:04<00:17, 44.10it/s]"
     ]
    },
    {
     "name": "stdout",
     "output_type": "stream",
     "text": [
      "X의 크기 : torch.Size([64, 1, 28, 28])\n",
      "X의 크기 : torch.Size([64, 1, 28, 28])\n",
      "X의 크기 : torch.Size([64, 1, 28, 28])\n",
      "X의 크기 : torch.Size([64, 1, 28, 28])\n"
     ]
    },
    {
     "name": "stderr",
     "output_type": "stream",
     "text": [
      "Training:  19%|█▉        | 178/938 [00:04<00:17, 43.24it/s]"
     ]
    },
    {
     "name": "stdout",
     "output_type": "stream",
     "text": [
      "X의 크기 : torch.Size([64, 1, 28, 28])\n",
      "X의 크기 : torch.Size([64, 1, 28, 28])\n",
      "X의 크기 : torch.Size([64, 1, 28, 28])\n",
      "X의 크기 : torch.Size([64, 1, 28, 28])\n",
      "X의 크기 : torch.Size([64, 1, 28, 28])\n"
     ]
    },
    {
     "name": "stderr",
     "output_type": "stream",
     "text": [
      "Training:  20%|█▉        | 183/938 [00:04<00:17, 42.54it/s]"
     ]
    },
    {
     "name": "stdout",
     "output_type": "stream",
     "text": [
      "X의 크기 : torch.Size([64, 1, 28, 28])\n",
      "X의 크기 : torch.Size([64, 1, 28, 28])\n",
      "X의 크기 : torch.Size([64, 1, 28, 28])\n",
      "X의 크기 : torch.Size([64, 1, 28, 28])\n",
      "X의 크기 : torch.Size([64, 1, 28, 28])\n",
      "X의 크기 : torch.Size([64, 1, 28, 28])\n"
     ]
    },
    {
     "name": "stderr",
     "output_type": "stream",
     "text": [
      "Training:  20%|██        | 188/938 [00:04<00:17, 42.99it/s]"
     ]
    },
    {
     "name": "stdout",
     "output_type": "stream",
     "text": [
      "X의 크기 : torch.Size([64, 1, 28, 28])\n",
      "X의 크기 : torch.Size([64, 1, 28, 28])\n",
      "X의 크기 : torch.Size([64, 1, 28, 28])\n",
      "X의 크기 : torch.Size([64, 1, 28, 28])\n"
     ]
    },
    {
     "name": "stderr",
     "output_type": "stream",
     "text": [
      "Training:  21%|██        | 193/938 [00:04<00:17, 43.81it/s]"
     ]
    },
    {
     "name": "stdout",
     "output_type": "stream",
     "text": [
      "X의 크기 : torch.Size([64, 1, 28, 28])\n",
      "X의 크기 : torch.Size([64, 1, 28, 28])\n",
      "X의 크기 : torch.Size([64, 1, 28, 28])\n",
      "X의 크기 : torch.Size([64, 1, 28, 28])\n",
      "X의 크기 : torch.Size([64, 1, 28, 28])\n",
      "X의 크기 : torch.Size([64, 1, 28, 28])\n"
     ]
    },
    {
     "name": "stderr",
     "output_type": "stream",
     "text": [
      "Training:  21%|██        | 198/938 [00:04<00:16, 44.37it/s]"
     ]
    },
    {
     "name": "stdout",
     "output_type": "stream",
     "text": [
      "X의 크기 : torch.Size([64, 1, 28, 28])\n",
      "X의 크기 : torch.Size([64, 1, 28, 28])\n",
      "X의 크기 : torch.Size([64, 1, 28, 28])\n",
      "X의 크기 : torch.Size([64, 1, 28, 28])\n"
     ]
    },
    {
     "name": "stderr",
     "output_type": "stream",
     "text": [
      "Training:  22%|██▏       | 203/938 [00:04<00:16, 44.06it/s]"
     ]
    },
    {
     "name": "stdout",
     "output_type": "stream",
     "text": [
      "X의 크기 : torch.Size([64, 1, 28, 28])\n",
      "X의 크기 : torch.Size([64, 1, 28, 28])\n",
      "X의 크기 : torch.Size([64, 1, 28, 28])\n",
      "X의 크기 : torch.Size([64, 1, 28, 28])\n",
      "X의 크기 : torch.Size([64, 1, 28, 28])\n"
     ]
    },
    {
     "name": "stderr",
     "output_type": "stream",
     "text": [
      "Training:  22%|██▏       | 208/938 [00:04<00:16, 43.39it/s]"
     ]
    },
    {
     "name": "stdout",
     "output_type": "stream",
     "text": [
      "X의 크기 : torch.Size([64, 1, 28, 28])\n",
      "X의 크기 : torch.Size([64, 1, 28, 28])\n",
      "X의 크기 : torch.Size([64, 1, 28, 28])\n",
      "X의 크기 : torch.Size([64, 1, 28, 28])\n"
     ]
    },
    {
     "name": "stderr",
     "output_type": "stream",
     "text": [
      "Training:  23%|██▎       | 213/938 [00:04<00:16, 44.00it/s]"
     ]
    },
    {
     "name": "stdout",
     "output_type": "stream",
     "text": [
      "X의 크기 : torch.Size([64, 1, 28, 28])\n",
      "X의 크기 : torch.Size([64, 1, 28, 28])\n",
      "X의 크기 : torch.Size([64, 1, 28, 28])\n",
      "X의 크기 : torch.Size([64, 1, 28, 28])\n",
      "X의 크기 : torch.Size([64, 1, 28, 28])\n"
     ]
    },
    {
     "name": "stderr",
     "output_type": "stream",
     "text": [
      "Training:  23%|██▎       | 218/938 [00:05<00:18, 39.65it/s]"
     ]
    },
    {
     "name": "stdout",
     "output_type": "stream",
     "text": [
      "X의 크기 : torch.Size([64, 1, 28, 28])\n",
      "X의 크기 : torch.Size([64, 1, 28, 28])\n",
      "X의 크기 : torch.Size([64, 1, 28, 28])\n",
      "X의 크기 : torch.Size([64, 1, 28, 28])\n",
      "X의 크기 : torch.Size([64, 1, 28, 28])\n",
      "X의 크기 : torch.Size([64, 1, 28, 28])\n",
      "X의 크기 : torch.Size([64, 1, 28, 28])\n"
     ]
    },
    {
     "name": "stderr",
     "output_type": "stream",
     "text": [
      "Training:  24%|██▍       | 223/938 [00:05<00:18, 39.69it/s]"
     ]
    },
    {
     "name": "stdout",
     "output_type": "stream",
     "text": [
      "X의 크기 : torch.Size([64, 1, 28, 28])\n",
      "X의 크기 : torch.Size([64, 1, 28, 28])\n",
      "X의 크기 : torch.Size([64, 1, 28, 28])\n",
      "X의 크기 : torch.Size([64, 1, 28, 28])\n",
      "X의 크기 : torch.Size([64, 1, 28, 28])\n"
     ]
    },
    {
     "name": "stderr",
     "output_type": "stream",
     "text": [
      "Training:  24%|██▍       | 228/938 [00:05<00:17, 39.81it/s]"
     ]
    },
    {
     "name": "stdout",
     "output_type": "stream",
     "text": [
      "X의 크기 : torch.Size([64, 1, 28, 28])\n",
      "X의 크기 : torch.Size([64, 1, 28, 28])\n",
      "X의 크기 : torch.Size([64, 1, 28, 28])\n",
      "X의 크기 : torch.Size([64, 1, 28, 28])\n"
     ]
    },
    {
     "name": "stderr",
     "output_type": "stream",
     "text": [
      "Training:  25%|██▍       | 233/938 [00:05<00:17, 39.87it/s]"
     ]
    },
    {
     "name": "stdout",
     "output_type": "stream",
     "text": [
      "X의 크기 : torch.Size([64, 1, 28, 28])\n",
      "X의 크기 : torch.Size([64, 1, 28, 28])\n",
      "X의 크기 : torch.Size([64, 1, 28, 28])\n",
      "X의 크기 : torch.Size([64, 1, 28, 28])\n",
      "X의 크기 : torch.Size([64, 1, 28, 28])\n",
      "X의 크기 : torch.Size([64, 1, 28, 28])\n"
     ]
    },
    {
     "name": "stderr",
     "output_type": "stream",
     "text": [
      "Training:  25%|██▌       | 238/938 [00:05<00:17, 40.90it/s]"
     ]
    },
    {
     "name": "stdout",
     "output_type": "stream",
     "text": [
      "X의 크기 : torch.Size([64, 1, 28, 28])\n",
      "X의 크기 : torch.Size([64, 1, 28, 28])\n",
      "X의 크기 : torch.Size([64, 1, 28, 28])\n"
     ]
    },
    {
     "name": "stderr",
     "output_type": "stream",
     "text": [
      "Training:  26%|██▌       | 243/938 [00:05<00:17, 39.66it/s]"
     ]
    },
    {
     "name": "stdout",
     "output_type": "stream",
     "text": [
      "X의 크기 : torch.Size([64, 1, 28, 28])\n",
      "X의 크기 : torch.Size([64, 1, 28, 28])\n",
      "X의 크기 : torch.Size([64, 1, 28, 28])\n",
      "X의 크기 : torch.Size([64, 1, 28, 28])\n",
      "X의 크기 : torch.Size([64, 1, 28, 28])\n"
     ]
    },
    {
     "name": "stderr",
     "output_type": "stream",
     "text": [
      "Training:  26%|██▋       | 248/938 [00:05<00:17, 40.38it/s]"
     ]
    },
    {
     "name": "stdout",
     "output_type": "stream",
     "text": [
      "X의 크기 : torch.Size([64, 1, 28, 28])\n",
      "X의 크기 : torch.Size([64, 1, 28, 28])\n",
      "X의 크기 : torch.Size([64, 1, 28, 28])\n",
      "X의 크기 : torch.Size([64, 1, 28, 28])\n"
     ]
    },
    {
     "name": "stderr",
     "output_type": "stream",
     "text": [
      "Training:  27%|██▋       | 253/938 [00:05<00:16, 41.77it/s]"
     ]
    },
    {
     "name": "stdout",
     "output_type": "stream",
     "text": [
      "X의 크기 : torch.Size([64, 1, 28, 28])\n",
      "X의 크기 : torch.Size([64, 1, 28, 28])\n",
      "X의 크기 : torch.Size([64, 1, 28, 28])\n",
      "X의 크기 : torch.Size([64, 1, 28, 28])\n",
      "X의 크기 : torch.Size([64, 1, 28, 28])\n"
     ]
    },
    {
     "name": "stderr",
     "output_type": "stream",
     "text": [
      "Training:  28%|██▊       | 258/938 [00:06<00:15, 42.78it/s]"
     ]
    },
    {
     "name": "stdout",
     "output_type": "stream",
     "text": [
      "X의 크기 : torch.Size([64, 1, 28, 28])\n",
      "X의 크기 : torch.Size([64, 1, 28, 28])\n",
      "X의 크기 : torch.Size([64, 1, 28, 28])\n",
      "X의 크기 : torch.Size([64, 1, 28, 28])\n",
      "X의 크기 : torch.Size([64, 1, 28, 28])\n",
      "X의 크기 : torch.Size([64, 1, 28, 28])\n",
      "X의 크기 : torch.Size([64, 1, 28, 28])\n",
      "X의 크기 : torch.Size([64, 1, 28, 28])\n"
     ]
    },
    {
     "name": "stderr",
     "output_type": "stream",
     "text": [
      "Training:  28%|██▊       | 263/938 [00:06<00:15, 42.52it/s]"
     ]
    },
    {
     "name": "stdout",
     "output_type": "stream",
     "text": [
      "X의 크기 : torch.Size([64, 1, 28, 28])\n"
     ]
    },
    {
     "name": "stderr",
     "output_type": "stream",
     "text": [
      "Training:  29%|██▊       | 268/938 [00:06<00:15, 42.66it/s]"
     ]
    },
    {
     "name": "stdout",
     "output_type": "stream",
     "text": [
      "X의 크기 : torch.Size([64, 1, 28, 28])\n",
      "X의 크기 : torch.Size([64, 1, 28, 28])\n",
      "X의 크기 : torch.Size([64, 1, 28, 28])\n",
      "X의 크기 : torch.Size([64, 1, 28, 28])\n",
      "X의 크기 : torch.Size([64, 1, 28, 28])\n",
      "X의 크기 : torch.Size([64, 1, 28, 28])\n",
      "X의 크기 : torch.Size([64, 1, 28, 28])\n"
     ]
    },
    {
     "name": "stderr",
     "output_type": "stream",
     "text": [
      "Training:  29%|██▉       | 273/938 [00:06<00:17, 38.62it/s]"
     ]
    },
    {
     "name": "stdout",
     "output_type": "stream",
     "text": [
      "X의 크기 : torch.Size([64, 1, 28, 28])\n",
      "X의 크기 : torch.Size([64, 1, 28, 28])\n",
      "X의 크기 : torch.Size([64, 1, 28, 28])\n",
      "X의 크기 : torch.Size([64, 1, 28, 28])\n",
      "X의 크기 : torch.Size([64, 1, 28, 28])\n",
      "X의 크기 : torch.Size([64, 1, 28, 28])\n",
      "X의 크기 : torch.Size([64, 1, 28, 28])\n"
     ]
    },
    {
     "name": "stderr",
     "output_type": "stream",
     "text": [
      "Training:  30%|██▉       | 278/938 [00:06<00:16, 40.27it/s]"
     ]
    },
    {
     "name": "stdout",
     "output_type": "stream",
     "text": [
      "X의 크기 : torch.Size([64, 1, 28, 28])\n",
      "X의 크기 : torch.Size([64, 1, 28, 28])\n"
     ]
    },
    {
     "name": "stderr",
     "output_type": "stream",
     "text": [
      "Training:  30%|███       | 283/938 [00:06<00:16, 40.72it/s]"
     ]
    },
    {
     "name": "stdout",
     "output_type": "stream",
     "text": [
      "X의 크기 : torch.Size([64, 1, 28, 28])\n",
      "X의 크기 : torch.Size([64, 1, 28, 28])\n",
      "X의 크기 : torch.Size([64, 1, 28, 28])\n",
      "X의 크기 : torch.Size([64, 1, 28, 28])\n",
      "X의 크기 : torch.Size([64, 1, 28, 28])\n",
      "X의 크기 : torch.Size([64, 1, 28, 28])\n",
      "X의 크기 : torch.Size([64, 1, 28, 28])\n",
      "X의 크기 : torch.Size([64, 1, 28, 28])\n"
     ]
    },
    {
     "name": "stderr",
     "output_type": "stream",
     "text": [
      "Training:  31%|███       | 288/938 [00:06<00:15, 41.48it/s]"
     ]
    },
    {
     "name": "stdout",
     "output_type": "stream",
     "text": [
      "X의 크기 : torch.Size([64, 1, 28, 28])\n"
     ]
    },
    {
     "name": "stderr",
     "output_type": "stream",
     "text": [
      "Training:  31%|███       | 293/938 [00:06<00:15, 41.87it/s]"
     ]
    },
    {
     "name": "stdout",
     "output_type": "stream",
     "text": [
      "X의 크기 : torch.Size([64, 1, 28, 28])\n",
      "X의 크기 : torch.Size([64, 1, 28, 28])\n",
      "X의 크기 : torch.Size([64, 1, 28, 28])\n",
      "X의 크기 : torch.Size([64, 1, 28, 28])\n",
      "X의 크기 : torch.Size([64, 1, 28, 28])\n",
      "X의 크기 : torch.Size([64, 1, 28, 28])\n",
      "X의 크기 : torch.Size([64, 1, 28, 28])\n",
      "X의 크기 : torch.Size([64, 1, 28, 28])\n",
      "X의 크기 : torch.Size([64, 1, 28, 28])\n"
     ]
    },
    {
     "name": "stderr",
     "output_type": "stream",
     "text": [
      "Training:  32%|███▏      | 303/938 [00:07<00:14, 43.40it/s]"
     ]
    },
    {
     "name": "stdout",
     "output_type": "stream",
     "text": [
      "X의 크기 : torch.Size([64, 1, 28, 28])\n",
      "X의 크기 : torch.Size([64, 1, 28, 28])\n",
      "X의 크기 : torch.Size([64, 1, 28, 28])\n",
      "X의 크기 : torch.Size([64, 1, 28, 28])\n",
      "X의 크기 : torch.Size([64, 1, 28, 28])\n",
      "X의 크기 : torch.Size([64, 1, 28, 28])\n",
      "X의 크기 : torch.Size([64, 1, 28, 28])\n",
      "X의 크기 : torch.Size([64, 1, 28, 28])\n",
      "X의 크기 : torch.Size([64, 1, 28, 28])\n",
      "X의 크기 : torch.Size([64, 1, 28, 28])\n"
     ]
    },
    {
     "name": "stderr",
     "output_type": "stream",
     "text": [
      "Training:  33%|███▎      | 313/938 [00:07<00:14, 44.03it/s]"
     ]
    },
    {
     "name": "stdout",
     "output_type": "stream",
     "text": [
      "X의 크기 : torch.Size([64, 1, 28, 28])\n",
      "X의 크기 : torch.Size([64, 1, 28, 28])\n",
      "X의 크기 : torch.Size([64, 1, 28, 28])\n",
      "X의 크기 : torch.Size([64, 1, 28, 28])\n",
      "X의 크기 : torch.Size([64, 1, 28, 28])\n",
      "X의 크기 : torch.Size([64, 1, 28, 28])\n",
      "X의 크기 : torch.Size([64, 1, 28, 28])\n",
      "X의 크기 : torch.Size([64, 1, 28, 28])\n",
      "X의 크기 : torch.Size([64, 1, 28, 28])\n",
      "X의 크기 : torch.Size([64, 1, 28, 28])\n"
     ]
    },
    {
     "name": "stderr",
     "output_type": "stream",
     "text": [
      "Training:  34%|███▍      | 323/938 [00:07<00:13, 44.99it/s]"
     ]
    },
    {
     "name": "stdout",
     "output_type": "stream",
     "text": [
      "X의 크기 : torch.Size([64, 1, 28, 28])\n",
      "X의 크기 : torch.Size([64, 1, 28, 28])\n",
      "X의 크기 : torch.Size([64, 1, 28, 28])\n",
      "X의 크기 : torch.Size([64, 1, 28, 28])\n",
      "X의 크기 : torch.Size([64, 1, 28, 28])\n",
      "X의 크기 : torch.Size([64, 1, 28, 28])\n",
      "X의 크기 : torch.Size([64, 1, 28, 28])\n",
      "X의 크기 : torch.Size([64, 1, 28, 28])\n",
      "X의 크기 : torch.Size([64, 1, 28, 28])\n",
      "X의 크기 : torch.Size([64, 1, 28, 28])\n"
     ]
    },
    {
     "name": "stderr",
     "output_type": "stream",
     "text": [
      "Training:  36%|███▌      | 333/938 [00:07<00:13, 44.35it/s]"
     ]
    },
    {
     "name": "stdout",
     "output_type": "stream",
     "text": [
      "X의 크기 : torch.Size([64, 1, 28, 28])\n",
      "X의 크기 : torch.Size([64, 1, 28, 28])\n",
      "X의 크기 : torch.Size([64, 1, 28, 28])\n",
      "X의 크기 : torch.Size([64, 1, 28, 28])\n",
      "X의 크기 : torch.Size([64, 1, 28, 28])\n",
      "X의 크기 : torch.Size([64, 1, 28, 28])\n",
      "X의 크기 : torch.Size([64, 1, 28, 28])\n",
      "X의 크기 : torch.Size([64, 1, 28, 28])\n",
      "X의 크기 : torch.Size([64, 1, 28, 28])\n"
     ]
    },
    {
     "name": "stderr",
     "output_type": "stream",
     "text": [
      "Training:  36%|███▌      | 338/938 [00:07<00:13, 44.01it/s]"
     ]
    },
    {
     "name": "stdout",
     "output_type": "stream",
     "text": [
      "X의 크기 : torch.Size([64, 1, 28, 28])\n",
      "X의 크기 : torch.Size([64, 1, 28, 28])\n",
      "X의 크기 : torch.Size([64, 1, 28, 28])\n",
      "X의 크기 : torch.Size([64, 1, 28, 28])\n",
      "X의 크기 : torch.Size([64, 1, 28, 28])\n",
      "X의 크기 : torch.Size([64, 1, 28, 28])\n"
     ]
    },
    {
     "name": "stderr",
     "output_type": "stream",
     "text": [
      "Training:  37%|███▋      | 343/938 [00:08<00:13, 44.13it/s]"
     ]
    },
    {
     "name": "stdout",
     "output_type": "stream",
     "text": [
      "X의 크기 : torch.Size([64, 1, 28, 28])\n",
      "X의 크기 : torch.Size([64, 1, 28, 28])\n",
      "X의 크기 : torch.Size([64, 1, 28, 28])\n"
     ]
    },
    {
     "name": "stderr",
     "output_type": "stream",
     "text": [
      "Training:  37%|███▋      | 348/938 [00:08<00:14, 42.07it/s]"
     ]
    },
    {
     "name": "stdout",
     "output_type": "stream",
     "text": [
      "X의 크기 : torch.Size([64, 1, 28, 28])\n",
      "X의 크기 : torch.Size([64, 1, 28, 28])\n",
      "X의 크기 : torch.Size([64, 1, 28, 28])\n",
      "X의 크기 : torch.Size([64, 1, 28, 28])\n",
      "X의 크기 : torch.Size([64, 1, 28, 28])\n",
      "X의 크기 : torch.Size([64, 1, 28, 28])\n"
     ]
    },
    {
     "name": "stderr",
     "output_type": "stream",
     "text": [
      "Training:  38%|███▊      | 353/938 [00:08<00:13, 42.52it/s]"
     ]
    },
    {
     "name": "stdout",
     "output_type": "stream",
     "text": [
      "X의 크기 : torch.Size([64, 1, 28, 28])\n",
      "X의 크기 : torch.Size([64, 1, 28, 28])\n"
     ]
    },
    {
     "name": "stderr",
     "output_type": "stream",
     "text": [
      "Training:  38%|███▊      | 358/938 [00:08<00:14, 38.98it/s]"
     ]
    },
    {
     "name": "stdout",
     "output_type": "stream",
     "text": [
      "X의 크기 : torch.Size([64, 1, 28, 28])\n",
      "X의 크기 : torch.Size([64, 1, 28, 28])\n",
      "X의 크기 : torch.Size([64, 1, 28, 28])\n",
      "X의 크기 : torch.Size([64, 1, 28, 28])\n",
      "X의 크기 : torch.Size([64, 1, 28, 28])\n",
      "X의 크기 : torch.Size([64, 1, 28, 28])\n"
     ]
    },
    {
     "name": "stderr",
     "output_type": "stream",
     "text": [
      "Training:  39%|███▊      | 363/938 [00:08<00:14, 40.62it/s]"
     ]
    },
    {
     "name": "stdout",
     "output_type": "stream",
     "text": [
      "X의 크기 : torch.Size([64, 1, 28, 28])\n",
      "X의 크기 : torch.Size([64, 1, 28, 28])\n",
      "X의 크기 : torch.Size([64, 1, 28, 28])\n"
     ]
    },
    {
     "name": "stderr",
     "output_type": "stream",
     "text": [
      "Training:  39%|███▉      | 368/938 [00:08<00:13, 41.68it/s]"
     ]
    },
    {
     "name": "stdout",
     "output_type": "stream",
     "text": [
      "X의 크기 : torch.Size([64, 1, 28, 28])\n",
      "X의 크기 : torch.Size([64, 1, 28, 28])\n",
      "X의 크기 : torch.Size([64, 1, 28, 28])\n",
      "X의 크기 : torch.Size([64, 1, 28, 28])\n",
      "X의 크기 : torch.Size([64, 1, 28, 28])\n",
      "X의 크기 : torch.Size([64, 1, 28, 28])\n",
      "X의 크기 : torch.Size([64, 1, 28, 28])\n",
      "X의 크기 : torch.Size([64, 1, 28, 28])\n",
      "X의 크기 : torch.Size([64, 1, 28, 28])\n"
     ]
    },
    {
     "name": "stderr",
     "output_type": "stream",
     "text": [
      "Training:  40%|████      | 378/938 [00:08<00:13, 42.21it/s]"
     ]
    },
    {
     "name": "stdout",
     "output_type": "stream",
     "text": [
      "X의 크기 : torch.Size([64, 1, 28, 28])\n",
      "X의 크기 : torch.Size([64, 1, 28, 28])\n",
      "X의 크기 : torch.Size([64, 1, 28, 28])\n",
      "X의 크기 : torch.Size([64, 1, 28, 28])\n",
      "X의 크기 : torch.Size([64, 1, 28, 28])\n",
      "X의 크기 : torch.Size([64, 1, 28, 28])\n",
      "X의 크기 : torch.Size([64, 1, 28, 28])\n",
      "X의 크기 : torch.Size([64, 1, 28, 28])\n",
      "X의 크기 : torch.Size([64, 1, 28, 28])\n"
     ]
    },
    {
     "name": "stderr",
     "output_type": "stream",
     "text": [
      "Training:  41%|████      | 383/938 [00:09<00:13, 42.16it/s]"
     ]
    },
    {
     "name": "stdout",
     "output_type": "stream",
     "text": [
      "X의 크기 : torch.Size([64, 1, 28, 28])\n",
      "X의 크기 : torch.Size([64, 1, 28, 28])\n",
      "X의 크기 : torch.Size([64, 1, 28, 28])\n",
      "X의 크기 : torch.Size([64, 1, 28, 28])\n",
      "X의 크기 : torch.Size([64, 1, 28, 28])\n",
      "X의 크기 : torch.Size([64, 1, 28, 28])\n",
      "X의 크기 : torch.Size([64, 1, 28, 28])\n"
     ]
    },
    {
     "name": "stderr",
     "output_type": "stream",
     "text": [
      "Training:  41%|████▏     | 388/938 [00:09<00:12, 43.13it/s]"
     ]
    },
    {
     "name": "stdout",
     "output_type": "stream",
     "text": [
      "X의 크기 : torch.Size([64, 1, 28, 28])\n",
      "X의 크기 : torch.Size([64, 1, 28, 28])\n"
     ]
    },
    {
     "name": "stderr",
     "output_type": "stream",
     "text": [
      "Training:  42%|████▏     | 393/938 [00:09<00:12, 43.18it/s]"
     ]
    },
    {
     "name": "stdout",
     "output_type": "stream",
     "text": [
      "X의 크기 : torch.Size([64, 1, 28, 28])\n",
      "X의 크기 : torch.Size([64, 1, 28, 28])\n",
      "X의 크기 : torch.Size([64, 1, 28, 28])\n",
      "X의 크기 : torch.Size([64, 1, 28, 28])\n",
      "X의 크기 : torch.Size([64, 1, 28, 28])\n",
      "X의 크기 : torch.Size([64, 1, 28, 28])\n",
      "X의 크기 : torch.Size([64, 1, 28, 28])\n"
     ]
    },
    {
     "name": "stderr",
     "output_type": "stream",
     "text": [
      "Training:  42%|████▏     | 397/938 [00:09<00:12, 42.30it/s]"
     ]
    },
    {
     "name": "stdout",
     "output_type": "stream",
     "text": [
      "X의 크기 : torch.Size([64, 1, 28, 28])\n"
     ]
    },
    {
     "name": "stderr",
     "output_type": "stream",
     "text": [
      "\n"
     ]
    },
    {
     "ename": "KeyboardInterrupt",
     "evalue": "",
     "output_type": "error",
     "traceback": [
      "\u001b[0;31m---------------------------------------------------------------------------\u001b[0m",
      "\u001b[0;31mKeyboardInterrupt\u001b[0m                         Traceback (most recent call last)",
      "Cell \u001b[0;32mIn[9], line 4\u001b[0m\n\u001b[1;32m      2\u001b[0m \u001b[38;5;28;01mfor\u001b[39;00m t \u001b[38;5;129;01min\u001b[39;00m \u001b[38;5;28mrange\u001b[39m(epochs):\n\u001b[1;32m      3\u001b[0m     \u001b[38;5;28mprint\u001b[39m(\u001b[38;5;124mf\u001b[39m\u001b[38;5;124m\"\u001b[39m\u001b[38;5;124mEpoch \u001b[39m\u001b[38;5;132;01m{\u001b[39;00mt\u001b[38;5;241m+\u001b[39m\u001b[38;5;241m1\u001b[39m\u001b[38;5;132;01m}\u001b[39;00m\u001b[38;5;130;01m\\n\u001b[39;00m\u001b[38;5;124m-------------------------------\u001b[39m\u001b[38;5;124m\"\u001b[39m)\n\u001b[0;32m----> 4\u001b[0m     \u001b[43mtrain\u001b[49m\u001b[43m(\u001b[49m\u001b[43mtrain_dataloader\u001b[49m\u001b[43m,\u001b[49m\u001b[43m \u001b[49m\u001b[43mmodel\u001b[49m\u001b[43m,\u001b[49m\u001b[43m \u001b[49m\u001b[43mloss_fn\u001b[49m\u001b[43m,\u001b[49m\u001b[43m \u001b[49m\u001b[43moptimizer\u001b[49m\u001b[43m)\u001b[49m\n\u001b[1;32m      5\u001b[0m     test(test_dataloader, model, loss_fn)\n\u001b[1;32m      6\u001b[0m \u001b[38;5;28mprint\u001b[39m(\u001b[38;5;124m\"\u001b[39m\u001b[38;5;124mDone!\u001b[39m\u001b[38;5;124m\"\u001b[39m)\n",
      "Cell \u001b[0;32mIn[7], line 9\u001b[0m, in \u001b[0;36mtrain\u001b[0;34m(train_dataloader, model, loss_fn, optimizer)\u001b[0m\n\u001b[1;32m      6\u001b[0m pred \u001b[38;5;241m=\u001b[39m model(X)\n\u001b[1;32m      7\u001b[0m loss \u001b[38;5;241m=\u001b[39m loss_fn(pred, y)\n\u001b[0;32m----> 9\u001b[0m \u001b[43mloss\u001b[49m\u001b[38;5;241;43m.\u001b[39;49m\u001b[43mbackward\u001b[49m\u001b[43m(\u001b[49m\u001b[43m)\u001b[49m\n\u001b[1;32m     10\u001b[0m optimizer\u001b[38;5;241m.\u001b[39mstep()\n\u001b[1;32m     11\u001b[0m optimizer\u001b[38;5;241m.\u001b[39mzero_grad()\n",
      "File \u001b[0;32m~/anaconda3/envs/fastapi/lib/python3.12/site-packages/torch/_tensor.py:521\u001b[0m, in \u001b[0;36mTensor.backward\u001b[0;34m(self, gradient, retain_graph, create_graph, inputs)\u001b[0m\n\u001b[1;32m    511\u001b[0m \u001b[38;5;28;01mif\u001b[39;00m has_torch_function_unary(\u001b[38;5;28mself\u001b[39m):\n\u001b[1;32m    512\u001b[0m     \u001b[38;5;28;01mreturn\u001b[39;00m handle_torch_function(\n\u001b[1;32m    513\u001b[0m         Tensor\u001b[38;5;241m.\u001b[39mbackward,\n\u001b[1;32m    514\u001b[0m         (\u001b[38;5;28mself\u001b[39m,),\n\u001b[0;32m   (...)\u001b[0m\n\u001b[1;32m    519\u001b[0m         inputs\u001b[38;5;241m=\u001b[39minputs,\n\u001b[1;32m    520\u001b[0m     )\n\u001b[0;32m--> 521\u001b[0m \u001b[43mtorch\u001b[49m\u001b[38;5;241;43m.\u001b[39;49m\u001b[43mautograd\u001b[49m\u001b[38;5;241;43m.\u001b[39;49m\u001b[43mbackward\u001b[49m\u001b[43m(\u001b[49m\n\u001b[1;32m    522\u001b[0m \u001b[43m    \u001b[49m\u001b[38;5;28;43mself\u001b[39;49m\u001b[43m,\u001b[49m\u001b[43m \u001b[49m\u001b[43mgradient\u001b[49m\u001b[43m,\u001b[49m\u001b[43m \u001b[49m\u001b[43mretain_graph\u001b[49m\u001b[43m,\u001b[49m\u001b[43m \u001b[49m\u001b[43mcreate_graph\u001b[49m\u001b[43m,\u001b[49m\u001b[43m \u001b[49m\u001b[43minputs\u001b[49m\u001b[38;5;241;43m=\u001b[39;49m\u001b[43minputs\u001b[49m\n\u001b[1;32m    523\u001b[0m \u001b[43m\u001b[49m\u001b[43m)\u001b[49m\n",
      "File \u001b[0;32m~/anaconda3/envs/fastapi/lib/python3.12/site-packages/torch/autograd/__init__.py:289\u001b[0m, in \u001b[0;36mbackward\u001b[0;34m(tensors, grad_tensors, retain_graph, create_graph, grad_variables, inputs)\u001b[0m\n\u001b[1;32m    284\u001b[0m     retain_graph \u001b[38;5;241m=\u001b[39m create_graph\n\u001b[1;32m    286\u001b[0m \u001b[38;5;66;03m# The reason we repeat the same comment below is that\u001b[39;00m\n\u001b[1;32m    287\u001b[0m \u001b[38;5;66;03m# some Python versions print out the first line of a multi-line function\u001b[39;00m\n\u001b[1;32m    288\u001b[0m \u001b[38;5;66;03m# calls in the traceback and some print out the last line\u001b[39;00m\n\u001b[0;32m--> 289\u001b[0m \u001b[43m_engine_run_backward\u001b[49m\u001b[43m(\u001b[49m\n\u001b[1;32m    290\u001b[0m \u001b[43m    \u001b[49m\u001b[43mtensors\u001b[49m\u001b[43m,\u001b[49m\n\u001b[1;32m    291\u001b[0m \u001b[43m    \u001b[49m\u001b[43mgrad_tensors_\u001b[49m\u001b[43m,\u001b[49m\n\u001b[1;32m    292\u001b[0m \u001b[43m    \u001b[49m\u001b[43mretain_graph\u001b[49m\u001b[43m,\u001b[49m\n\u001b[1;32m    293\u001b[0m \u001b[43m    \u001b[49m\u001b[43mcreate_graph\u001b[49m\u001b[43m,\u001b[49m\n\u001b[1;32m    294\u001b[0m \u001b[43m    \u001b[49m\u001b[43minputs\u001b[49m\u001b[43m,\u001b[49m\n\u001b[1;32m    295\u001b[0m \u001b[43m    \u001b[49m\u001b[43mallow_unreachable\u001b[49m\u001b[38;5;241;43m=\u001b[39;49m\u001b[38;5;28;43;01mTrue\u001b[39;49;00m\u001b[43m,\u001b[49m\n\u001b[1;32m    296\u001b[0m \u001b[43m    \u001b[49m\u001b[43maccumulate_grad\u001b[49m\u001b[38;5;241;43m=\u001b[39;49m\u001b[38;5;28;43;01mTrue\u001b[39;49;00m\u001b[43m,\u001b[49m\n\u001b[1;32m    297\u001b[0m \u001b[43m\u001b[49m\u001b[43m)\u001b[49m\n",
      "File \u001b[0;32m~/anaconda3/envs/fastapi/lib/python3.12/site-packages/torch/autograd/graph.py:769\u001b[0m, in \u001b[0;36m_engine_run_backward\u001b[0;34m(t_outputs, *args, **kwargs)\u001b[0m\n\u001b[1;32m    767\u001b[0m     unregister_hooks \u001b[38;5;241m=\u001b[39m _register_logging_hooks_on_whole_graph(t_outputs)\n\u001b[1;32m    768\u001b[0m \u001b[38;5;28;01mtry\u001b[39;00m:\n\u001b[0;32m--> 769\u001b[0m     \u001b[38;5;28;01mreturn\u001b[39;00m \u001b[43mVariable\u001b[49m\u001b[38;5;241;43m.\u001b[39;49m\u001b[43m_execution_engine\u001b[49m\u001b[38;5;241;43m.\u001b[39;49m\u001b[43mrun_backward\u001b[49m\u001b[43m(\u001b[49m\u001b[43m  \u001b[49m\u001b[38;5;66;43;03m# Calls into the C++ engine to run the backward pass\u001b[39;49;00m\n\u001b[1;32m    770\u001b[0m \u001b[43m        \u001b[49m\u001b[43mt_outputs\u001b[49m\u001b[43m,\u001b[49m\u001b[43m \u001b[49m\u001b[38;5;241;43m*\u001b[39;49m\u001b[43margs\u001b[49m\u001b[43m,\u001b[49m\u001b[43m \u001b[49m\u001b[38;5;241;43m*\u001b[39;49m\u001b[38;5;241;43m*\u001b[39;49m\u001b[43mkwargs\u001b[49m\n\u001b[1;32m    771\u001b[0m \u001b[43m    \u001b[49m\u001b[43m)\u001b[49m  \u001b[38;5;66;03m# Calls into the C++ engine to run the backward pass\u001b[39;00m\n\u001b[1;32m    772\u001b[0m \u001b[38;5;28;01mfinally\u001b[39;00m:\n\u001b[1;32m    773\u001b[0m     \u001b[38;5;28;01mif\u001b[39;00m attach_logging_hooks:\n",
      "\u001b[0;31mKeyboardInterrupt\u001b[0m: "
     ]
    }
   ],
   "source": [
    "epochs = 5\n",
    "for t in range(epochs):\n",
    "    print(f\"Epoch {t+1}\\n-------------------------------\")\n",
    "    train(train_dataloader, model, loss_fn, optimizer)\n",
    "    test(test_dataloader, model, loss_fn)\n",
    "print(\"Done!\")"
   ]
  },
  {
   "cell_type": "code",
   "execution_count": null,
   "metadata": {},
   "outputs": [],
   "source": [
    "torch.save(model.state_dict(),'model.pth')\n",
    "print('Saved PyTorch Model state to model.pth')\n"
   ]
  },
  {
   "cell_type": "code",
   "execution_count": null,
   "metadata": {},
   "outputs": [],
   "source": [
    "mdoel = CNN().to(device)\n",
    "model.load_state_dict(torch.load('model.pth'))"
   ]
  },
  {
   "cell_type": "code",
   "execution_count": null,
   "metadata": {},
   "outputs": [],
   "source": [
    "classes = [\n",
    "    \"T-shirt/top\",\n",
    "    \"Trouser\",\n",
    "    \"Pullover\",\n",
    "    \"Dress\",\n",
    "    \"Coat\",\n",
    "    \"Sandal\",\n",
    "    \"Shirt\",\n",
    "    \"Sneaker\",\n",
    "    \"Bag\",\n",
    "    \"Ankle boot\",\n",
    "]\n",
    "\n",
    "\n",
    "model.eval()\n",
    "x, y = test_data[0][0], test_data[0][1]\n",
    "with torch.no_grad():\n",
    "    x = x.to(device)\n",
    "    pred = model(x)\n",
    "    predicted, actual = classes[pred[0].argmax(0)], classes[y]\n",
    "    print(f'Predicted: \"{predicted}\", Actual: \"{actual}\"')"
   ]
  }
 ],
 "metadata": {
  "kernelspec": {
   "display_name": "fastapi",
   "language": "python",
   "name": "python3"
  },
  "language_info": {
   "codemirror_mode": {
    "name": "ipython",
    "version": 3
   },
   "file_extension": ".py",
   "mimetype": "text/x-python",
   "name": "python",
   "nbconvert_exporter": "python",
   "pygments_lexer": "ipython3",
   "version": "3.12.2"
  }
 },
 "nbformat": 4,
 "nbformat_minor": 2
}
