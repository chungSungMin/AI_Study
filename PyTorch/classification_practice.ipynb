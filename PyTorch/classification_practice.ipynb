{
 "cells": [
  {
   "cell_type": "markdown",
   "metadata": {},
   "source": [
    "### import 진행하여 필요한 라이브러리를 설치한다."
   ]
  },
  {
   "cell_type": "code",
   "execution_count": 225,
   "metadata": {},
   "outputs": [],
   "source": [
    "import torch\n",
    "import torch.nn as nn\n",
    "from torch.utils.data import Dataset\n",
    "from torch.utils.data import DataLoader\n",
    "from torchvision import datasets\n",
    "from torchvision.transforms import ToTensor"
   ]
  },
  {
   "cell_type": "markdown",
   "metadata": {},
   "source": [
    "### 예시로 사용할 torchvision의 FashionMNIST를 불러옵니다."
   ]
  },
  {
   "cell_type": "code",
   "execution_count": 226,
   "metadata": {},
   "outputs": [],
   "source": [
    "train_data = datasets.FashionMNIST(\n",
    "    root = 'data',\n",
    "    download= True,\n",
    "    train= True,\n",
    "    transform=ToTensor()\n",
    ")\n",
    "\n",
    "test_data = datasets.FashionMNIST(\n",
    "    root = 'data',\n",
    "    download= True,\n",
    "    train = False,\n",
    "    transform= ToTensor()\n",
    ")"
   ]
  },
  {
   "cell_type": "markdown",
   "metadata": {},
   "source": [
    "### 예시로 불러온 FashionMNIST를 시각화 해봅니다."
   ]
  },
  {
   "cell_type": "code",
   "execution_count": 227,
   "metadata": {},
   "outputs": [
    {
     "data": {
      "image/png": "[encoded data removed]",
      "text/plain": [
       "<Figure size 640x480 with 1 Axes>"
      ]
     },
     "metadata": {},
     "output_type": "display_data"
    }
   ],
   "source": [
    "import matplotlib.pyplot as plt \n",
    "import random \n",
    "\n",
    "# train_data는 x,y를 반환하며 x에는 이미지, y에는 해당 라벨이 들어있습니다.\n",
    "idx = random.randint(0, len(train_data))\n",
    "X, y = train_data[idx]\n",
    "\n",
    "# 현재 이미지의 경우 흑백이미지 이기에 (1, 28, 28 ) 을 squeeze()를 진행하여 (28, 28)로 만들어서 시각화 해줍니다.\n",
    "plt.imshow(X.squeeze(), cmap = 'gray')\n",
    "plt.title(f'Random Image visualization, Label : {y}')\n",
    "plt.show()"
   ]
  },
  {
   "cell_type": "markdown",
   "metadata": {},
   "source": [
    "### 데이터를 iteration 하게 불러올 수 있도록 DataLoader를 구현합니다."
   ]
  },
  {
   "cell_type": "code",
   "execution_count": 228,
   "metadata": {},
   "outputs": [
    {
     "name": "stdout",
     "output_type": "stream",
     "text": [
      "TrainLoader에서 불러오는 이미지들의 shape :  torch.Size([64, 1, 28, 28])\n",
      "TrainLoader에서 불러오는 라벨들의 shape :  torch.Size([64])\n"
     ]
    }
   ],
   "source": [
    "train_dataloader = DataLoader(train_data, batch_size=64)\n",
    "test_dataloader = DataLoader(test_data, batch_size=64)\n",
    "\n",
    "# DataLoader가 데이터를 어떻게 불러오는지 확인합니다.\n",
    "train_laoder_result = next(iter(train_dataloader))\n",
    "# print(train_laoder_result)\n",
    "iamges, labels = train_laoder_result\n",
    "print(f'TrainLoader에서 불러오는 이미지들의 shape :  {iamges.shape}')\n",
    "print(f'TrainLoader에서 불러오는 라벨들의 shape :  {labels.shape}')"
   ]
  },
  {
   "cell_type": "markdown",
   "metadata": {},
   "source": [
    "### 데이터를 학습 시킬 모델을 직접 구현합니다."
   ]
  },
  {
   "cell_type": "code",
   "execution_count": 229,
   "metadata": {},
   "outputs": [],
   "source": [
    "class CustomModel(nn.Module):\n",
    "    def __init__(self):\n",
    "        super(CustomModel, self).__init__()\n",
    "        self.conv_layer = nn.Sequential(\n",
    "            nn.Conv2d(1, 32, kernel_size=3, padding = 1),\n",
    "            nn.BatchNorm2d(num_features=32),\n",
    "            nn.ReLU(),\n",
    "            nn.MaxPool2d(2,2),\n",
    "            nn.Conv2d(32, 64, kernel_size=3, padding = 1),\n",
    "            nn.BatchNorm2d(num_features=64),\n",
    "            nn.ReLU(),\n",
    "            nn.MaxPool2d(2,2)\n",
    "        )\n",
    "\n",
    "        self.fc_layer = nn.Sequential(\n",
    "            nn.Linear(7 * 7 * 64, 512),\n",
    "            nn.ReLU(),\n",
    "            nn.Linear(512, 128),\n",
    "            nn.ReLU(),\n",
    "            nn.Linear(128, 10)\n",
    "\n",
    "        )\n",
    "\n",
    "    def forward(self, x):\n",
    "        conv_result = self.conv_layer(x)\n",
    "        flatten = conv_result.view(-1, 7 * 7 * 64,)\n",
    "        result = self.fc_layer(flatten)\n",
    "        return result\n",
    "\n"
   ]
  },
  {
   "cell_type": "code",
   "execution_count": 230,
   "metadata": {},
   "outputs": [
    {
     "name": "stdout",
     "output_type": "stream",
     "text": [
      "CustomModel(\n",
      "  (conv_layer): Sequential(\n",
      "    (0): Conv2d(1, 32, kernel_size=(3, 3), stride=(1, 1), padding=(1, 1))\n",
      "    (1): BatchNorm2d(32, eps=1e-05, momentum=0.1, affine=True, track_running_stats=True)\n",
      "    (2): ReLU()\n",
      "    (3): MaxPool2d(kernel_size=2, stride=2, padding=0, dilation=1, ceil_mode=False)\n",
      "    (4): Conv2d(32, 64, kernel_size=(3, 3), stride=(1, 1), padding=(1, 1))\n",
      "    (5): BatchNorm2d(64, eps=1e-05, momentum=0.1, affine=True, track_running_stats=True)\n",
      "    (6): ReLU()\n",
      "    (7): MaxPool2d(kernel_size=2, stride=2, padding=0, dilation=1, ceil_mode=False)\n",
      "  )\n",
      "  (fc_layer): Sequential(\n",
      "    (0): Linear(in_features=3136, out_features=512, bias=True)\n",
      "    (1): ReLU()\n",
      "    (2): Linear(in_features=512, out_features=128, bias=True)\n",
      "    (3): ReLU()\n",
      "    (4): Linear(in_features=128, out_features=10, bias=True)\n",
      "  )\n",
      ")\n"
     ]
    }
   ],
   "source": [
    "model = CustomModel()\n",
    "print(model)"
   ]
  },
  {
   "cell_type": "markdown",
   "metadata": {},
   "source": [
    "### Loss fucntion과 optimizer를 선언합니다."
   ]
  },
  {
   "cell_type": "code",
   "execution_count": 231,
   "metadata": {},
   "outputs": [],
   "source": [
    "loss_fn = nn.CrossEntropyLoss()\n",
    "optimizer = torch.optim.Adam(model.parameters(), lr = 1e-4)\n",
    "device = 'cuda' if torch.cuda.is_available() else 'cpu'"
   ]
  },
  {
   "cell_type": "markdown",
   "metadata": {},
   "source": [
    "### train 함수를 작성합니다."
   ]
  },
  {
   "cell_type": "code",
   "execution_count": 233,
   "metadata": {},
   "outputs": [],
   "source": [
    "import tqdm\n",
    "from prettytable import PrettyTable\n",
    "\n",
    "\n",
    "def visualization(train_image, pred, y):\n",
    "    fig, axs = plt.subplots(1, 3, figsize = (15, 5))\n",
    "    for i, ax in enumerate(axs):\n",
    "        img = train_image[i].squeeze()\n",
    "        ax.imshow(img, cmap = 'gray')\n",
    "        ax.set_title(f'Pred : {pred[i]}, Label : {y[i]}')\n",
    "        ax.axis('off')\n",
    "    plt.show()\n",
    "        \n",
    "\n",
    "\n",
    "\n",
    "def train(data_loader, model, loss_fn, optimizer, device, eph):\n",
    "    model.train()\n",
    "    total_loss = 0\n",
    "    visual_idx = [random.randint(0, len(data_loader)-1) for _ in range(3)]\n",
    "    \n",
    "    visual_iamge = []\n",
    "    visual_pred = []\n",
    "    visual_label = []\n",
    "\n",
    "\n",
    "    for idx, (X, y) in enumerate(tqdm.tqdm(data_loader, desc = 'Training')):\n",
    "        X , y = X.to(device), y.to(device)\n",
    "        pred = model(X)\n",
    "\n",
    "        if idx in visual_idx:\n",
    "            visual_iamge.append(X[0])\n",
    "            visual_pred.append(pred[0].argmax().item())\n",
    "            visual_label.append(y[0].item())\n",
    "\n",
    "        loss = loss_fn(pred, y)\n",
    "        optimizer.zero_grad()\n",
    "        loss.backward()\n",
    "        optimizer.step()\n",
    "\n",
    "        total_loss += loss.item()\n",
    "    \n",
    "    visualization(visual_iamge, visual_pred, visual_label)\n",
    "\n",
    "    table = PrettyTable()\n",
    "    table.field_names = ['EPOCH', 'Average Loss']\n",
    "    table.add_row([f'{eph + 1}', f'{total_loss / len(data_loader)}'])\n",
    "    print(table)\n",
    "\n",
    "    "
   ]
  },
  {
   "cell_type": "markdown",
   "metadata": {},
   "source": [
    "### Test 함수를 작성합니다."
   ]
  },
  {
   "cell_type": "code",
   "execution_count": 234,
   "metadata": {},
   "outputs": [],
   "source": [
    "def test(data_loader, model, loss_fn, device):\n",
    "    model.eval()\n",
    "    total_loss, correct = 0, 0\n",
    "    num_sample = 0\n",
    "\n",
    "    for X, y in tqdm.tqdm(data_loader, desc='Testing'):\n",
    "        X,y = X.to(device), y.to(device)\n",
    "        pred = model(X)\n",
    "        loss = loss_fn(pred, y)\n",
    "        total_loss += loss.item()\n",
    "        correct += (pred.argmax(1) == y).type(torch.float).sum().item()\n",
    "        num_sample += y.size(0)\n",
    "    \n",
    "    avg_loss = total_loss / len(data_loader)\n",
    "    avg_accuracy = correct / num_sample * 100\n",
    "    table = PrettyTable()\n",
    "    table.field_names = [\"Metric\", \"Value\"]\n",
    "    table.add_row([\"Average loss in evaluation\", f\"{avg_loss:.4f}\"])\n",
    "    table.add_row([\"Average accuracy in evaluation\", f\"{avg_accuracy:.2f} %\"])\n",
    "\n",
    "    print(table)"
   ]
  },
  {
   "cell_type": "markdown",
   "metadata": {},
   "source": [
    "### Epoch을 설정하고 학습을 진행합니다."
   ]
  },
  {
   "cell_type": "code",
   "execution_count": 235,
   "metadata": {},
   "outputs": [
    {
     "name": "stdout",
     "output_type": "stream",
     "text": [
      "EPOCH : [ 1 | 5]\n"
     ]
    },
    {
     "name": "stderr",
     "output_type": "stream",
     "text": [
      "Training: 100%|██████████| 938/938 [00:26<00:00, 35.63it/s]\n"
     ]
    },
    {
     "data": {
      "image/png": "[encoded data removed]",
      "text/plain": [
       "<Figure size 1500x500 with 3 Axes>"
      ]
     },
     "metadata": {},
     "output_type": "display_data"
    },
    {
     "name": "stdout",
     "output_type": "stream",
     "text": [
      "+-------+--------------------+\n",
      "| EPOCH |    Average Loss    |\n",
      "+-------+--------------------+\n",
      "|   1   | 0.4402845248278143 |\n",
      "+-------+--------------------+\n"
     ]
    },
    {
     "name": "stderr",
     "output_type": "stream",
     "text": [
      "Testing: 100%|██████████| 157/157 [00:01<00:00, 109.92it/s]\n"
     ]
    },
    {
     "name": "stdout",
     "output_type": "stream",
     "text": [
      "+--------------------------------+---------+\n",
      "|             Metric             |  Value  |\n",
      "+--------------------------------+---------+\n",
      "|   Average loss in evaluation   |  0.3539 |\n",
      "| Average accuracy in evaluation | 87.12 % |\n",
      "+--------------------------------+---------+\n",
      "EPOCH : [ 2 | 5]\n"
     ]
    },
    {
     "name": "stderr",
     "output_type": "stream",
     "text": [
      "Training: 100%|██████████| 938/938 [00:25<00:00, 36.51it/s]\n"
     ]
    },
    {
     "data": {
      "image/png": "[encoded data removed]",
      "text/plain": [
       "<Figure size 1500x500 with 3 Axes>"
      ]
     },
     "metadata": {},
     "output_type": "display_data"
    },
    {
     "name": "stdout",
     "output_type": "stream",
     "text": [
      "+-------+---------------------+\n",
      "| EPOCH |     Average Loss    |\n",
      "+-------+---------------------+\n",
      "|   2   | 0.28014859811329385 |\n",
      "+-------+---------------------+\n"
     ]
    },
    {
     "name": "stderr",
     "output_type": "stream",
     "text": [
      "Testing: 100%|██████████| 157/157 [00:01<00:00, 112.68it/s]\n"
     ]
    },
    {
     "name": "stdout",
     "output_type": "stream",
     "text": [
      "+--------------------------------+---------+\n",
      "|             Metric             |  Value  |\n",
      "+--------------------------------+---------+\n",
      "|   Average loss in evaluation   |  0.3309 |\n",
      "| Average accuracy in evaluation | 88.10 % |\n",
      "+--------------------------------+---------+\n",
      "EPOCH : [ 3 | 5]\n"
     ]
    },
    {
     "name": "stderr",
     "output_type": "stream",
     "text": [
      "Training: 100%|██████████| 938/938 [00:26<00:00, 34.95it/s]\n"
     ]
    },
    {
     "data": {
      "image/png": "[encoded data removed]",
      "text/plain": [
       "<Figure size 1500x500 with 3 Axes>"
      ]
     },
     "metadata": {},
     "output_type": "display_data"
    },
    {
     "name": "stdout",
     "output_type": "stream",
     "text": [
      "+-------+---------------------+\n",
      "| EPOCH |     Average Loss    |\n",
      "+-------+---------------------+\n",
      "|   3   | 0.23928364274947883 |\n",
      "+-------+---------------------+\n"
     ]
    },
    {
     "name": "stderr",
     "output_type": "stream",
     "text": [
      "Testing: 100%|██████████| 157/157 [00:01<00:00, 107.71it/s]\n"
     ]
    },
    {
     "name": "stdout",
     "output_type": "stream",
     "text": [
      "+--------------------------------+---------+\n",
      "|             Metric             |  Value  |\n",
      "+--------------------------------+---------+\n",
      "|   Average loss in evaluation   |  0.3132 |\n",
      "| Average accuracy in evaluation | 89.00 % |\n",
      "+--------------------------------+---------+\n",
      "EPOCH : [ 4 | 5]\n"
     ]
    },
    {
     "name": "stderr",
     "output_type": "stream",
     "text": [
      "Training: 100%|██████████| 938/938 [00:26<00:00, 35.68it/s]\n"
     ]
    },
    {
     "data": {
      "image/png": "[encoded data removed]",
      "text/plain": [
       "<Figure size 1500x500 with 3 Axes>"
      ]
     },
     "metadata": {},
     "output_type": "display_data"
    },
    {
     "name": "stdout",
     "output_type": "stream",
     "text": [
      "+-------+--------------------+\n",
      "| EPOCH |    Average Loss    |\n",
      "+-------+--------------------+\n",
      "|   4   | 0.2110282435719329 |\n",
      "+-------+--------------------+\n"
     ]
    },
    {
     "name": "stderr",
     "output_type": "stream",
     "text": [
      "Testing: 100%|██████████| 157/157 [00:01<00:00, 103.65it/s]\n"
     ]
    },
    {
     "name": "stdout",
     "output_type": "stream",
     "text": [
      "+--------------------------------+---------+\n",
      "|             Metric             |  Value  |\n",
      "+--------------------------------+---------+\n",
      "|   Average loss in evaluation   |  0.3053 |\n",
      "| Average accuracy in evaluation | 89.16 % |\n",
      "+--------------------------------+---------+\n",
      "EPOCH : [ 5 | 5]\n"
     ]
    },
    {
     "name": "stderr",
     "output_type": "stream",
     "text": [
      "Training: 100%|██████████| 938/938 [00:28<00:00, 32.66it/s]\n"
     ]
    },
    {
     "data": {
      "image/png": "[encoded data removed]",
      "text/plain": [
       "<Figure size 1500x500 with 3 Axes>"
      ]
     },
     "metadata": {},
     "output_type": "display_data"
    },
    {
     "name": "stdout",
     "output_type": "stream",
     "text": [
      "+-------+--------------------+\n",
      "| EPOCH |    Average Loss    |\n",
      "+-------+--------------------+\n",
      "|   5   | 0.1884521640289122 |\n",
      "+-------+--------------------+\n"
     ]
    },
    {
     "name": "stderr",
     "output_type": "stream",
     "text": [
      "Testing: 100%|██████████| 157/157 [00:01<00:00, 81.07it/s]"
     ]
    },
    {
     "name": "stdout",
     "output_type": "stream",
     "text": [
      "+--------------------------------+---------+\n",
      "|             Metric             |  Value  |\n",
      "+--------------------------------+---------+\n",
      "|   Average loss in evaluation   |  0.3003 |\n",
      "| Average accuracy in evaluation | 89.32 % |\n",
      "+--------------------------------+---------+\n",
      "DONE\n"
     ]
    },
    {
     "name": "stderr",
     "output_type": "stream",
     "text": [
      "\n"
     ]
    }
   ],
   "source": [
    "epoch = 5\n",
    "\n",
    "for eph in range(epoch):\n",
    "    print(f'EPOCH : [ {eph + 1} | {epoch}]')\n",
    "    train(train_dataloader, model, loss_fn, optimizer, device, eph)\n",
    "    test(test_dataloader, model, loss_fn, device)\n",
    "print('DONE')"
   ]
  }
 ],
 "metadata": {
  "kernelspec": {
   "display_name": "fastapi",
   "language": "python",
   "name": "python3"
  },
  "language_info": {
   "codemirror_mode": {
    "name": "ipython",
    "version": 3
   },
   "file_extension": ".py",
   "mimetype": "text/x-python",
   "name": "python",
   "nbconvert_exporter": "python",
   "pygments_lexer": "ipython3",
   "version": "3.12.2"
  }
 },
 "nbformat": 4,
 "nbformat_minor": 2
}
