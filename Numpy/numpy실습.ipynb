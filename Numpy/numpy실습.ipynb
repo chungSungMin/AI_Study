{
 "cells": [
  {
   "cell_type": "markdown",
   "metadata": {},
   "source": [
    "### bool을 활용해서 ndarray의 idx 참조가 가능합니다."
   ]
  },
  {
   "cell_type": "code",
   "execution_count": 16,
   "metadata": {},
   "outputs": [
    {
     "name": "stdout",
     "output_type": "stream",
     "text": [
      "[2 4 6]\n",
      "[ 4  8 12]\n",
      "[1 2 3 4 5 6]\n"
     ]
    }
   ],
   "source": [
    "import numpy as np\n",
    "\n",
    "arr1 = np.array([1,2,3,4,5,6])\n",
    "even_arr = arr1[arr1 % 2 == 0].copy() # 꼭 copy()를 사용해서 원본 ndarray에 손상이 가지 않도록 설정해야합니다.\n",
    "print(even_arr) \n",
    "\n",
    "even_arr = even_arr * 2\n",
    "print(even_arr)\n",
    "print(arr1)"
   ]
  },
  {
   "cell_type": "markdown",
   "metadata": {},
   "source": [
    "#### ndarray에서 기본으로 지원하는 범용함수 .abs() | .exp() | .sqrt()"
   ]
  },
  {
   "cell_type": "code",
   "execution_count": 17,
   "metadata": {},
   "outputs": [
    {
     "name": "stdout",
     "output_type": "stream",
     "text": [
      ".abs() : [1 2 3 4 5 6]\n",
      ".exp() : [2.71828183e+00 7.38905610e+00 4.97870684e-02 5.45981500e+01\n",
      " 1.48413159e+02 2.47875218e-03]\n",
      ".sqrt() : [1.         1.41421356        nan 2.         2.23606798        nan]\n"
     ]
    },
    {
     "name": "stderr",
     "output_type": "stream",
     "text": [
      "/var/folders/gf/3r9shwfs5ydc_872y235kv5r0000gn/T/ipykernel_99681/3107454106.py:5: RuntimeWarning: invalid value encountered in sqrt\n",
      "  print(f'.sqrt() : {np.sqrt(arr)}')\n"
     ]
    }
   ],
   "source": [
    "arr = np.array([1,2,-3,4,5,-6])\n",
    "\n",
    "print(f'.abs() : {np.abs(arr)}')\n",
    "print(f'.exp() : {np.exp(arr)}')\n",
    "print(f'.sqrt() : {np.sqrt(arr)}')"
   ]
  },
  {
   "cell_type": "markdown",
   "metadata": {},
   "source": [
    "### Numpy에서 지원하는 집합 함수"
   ]
  },
  {
   "cell_type": "code",
   "execution_count": 18,
   "metadata": {},
   "outputs": [
    {
     "name": "stdout",
     "output_type": "stream",
     "text": [
      "np.unique() : [1 2 3 6]\n",
      "np.union1d : [1 2 3 4 6]\n",
      "np.intersect1d : [1 2 6]\n",
      "np.setdiff1d : [3]\n",
      "np.setdiff1d : [4]\n"
     ]
    }
   ],
   "source": [
    "arr1 = np.array([1,2,3,3,2,2,1,1,1,1,1,6])\n",
    "arr2 = np.array([4,4,4,4,2,2,2,1,1,1,1,1,6])\n",
    "\n",
    "print(f'np.unique() : {np.unique(arr1)}')\n",
    "print(f'np.union1d : {np.union1d(arr1, arr2)}')\n",
    "print(f'np.intersect1d : {np.intersect1d(arr1, arr2)}')\n",
    "print(f'np.setdiff1d : {np.setdiff1d(arr1, arr2)}')\n",
    "print(f'np.setdiff1d : {np.setdiff1d(arr2, arr1)}')"
   ]
  },
  {
   "cell_type": "markdown",
   "metadata": {},
   "source": [
    "### Numpy에서 random 배열 생성하기"
   ]
  },
  {
   "cell_type": "code",
   "execution_count": 19,
   "metadata": {},
   "outputs": [
    {
     "name": "stdout",
     "output_type": "stream",
     "text": [
      "[[29 48 56]\n",
      " [27 51 50]]\n",
      "[[0.46894661 0.57103144 0.96748901]\n",
      " [0.59723667 0.67962299 0.66853646]]\n",
      "[[-3.00624628e-01  2.30625927e-01  4.38925040e-02]\n",
      " [ 1.31488010e-01 -3.21394507e-01  9.65269490e-05]]\n"
     ]
    }
   ],
   "source": [
    "shape = (2,3)\n",
    "# random.randint()의 인자는 (시작숫자, 끝숫자, 형태) 를 의미한다.\n",
    "arr1 = np.random.randint(1, 100, shape)\n",
    "print(arr1)\n",
    "\n",
    "\n",
    "# 0 ~ 1 사이의 난수 생성 : uniform distribution을 따른다.\n",
    "arr2 = np.random.rand(2,3)\n",
    "print(arr2)\n",
    "\n",
    "# Nomal distribution을 따른다.\n",
    "arr3 = np.random.randn(2,3)\n",
    "print(arr3)"
   ]
  },
  {
   "cell_type": "markdown",
   "metadata": {},
   "source": [
    "### 2차원 ndarry Shape과 Reshape 함수"
   ]
  },
  {
   "cell_type": "code",
   "execution_count": 25,
   "metadata": {},
   "outputs": [
    {
     "name": "stdout",
     "output_type": "stream",
     "text": [
      "(4, 3, 2, 4, 2)\n",
      "(12, 8, 2)\n"
     ]
    }
   ],
   "source": [
    "# shape을 사용하게 되면 ndarray의 형태를 파악할 수 있다.\n",
    "arr1 = np.random.randint(0, 100, (4,3,2,4,2))\n",
    "print(arr1.shape)\n",
    "\n",
    "# reshape을 활용해서 ndarray의 형태를 변경할수 있다.\n",
    "arr2 = arr1.reshape(12, 8, -1)\n",
    "print(arr2.shape)\n",
    "\n"
   ]
  },
  {
   "cell_type": "markdown",
   "metadata": {},
   "source": [
    "### 2차원 ndarray에서의 인덱스 참조와 슬라이스"
   ]
  },
  {
   "cell_type": "code",
   "execution_count": 32,
   "metadata": {},
   "outputs": [
    {
     "name": "stdout",
     "output_type": "stream",
     "text": [
      "row : 2, col : 2 =  1\n",
      "row : 전체, col : 2 ~ 3까지 : \n",
      " [[3 4]\n",
      " [8 9]\n",
      " [1 4]]\n"
     ]
    }
   ],
   "source": [
    "arr1 = np.array([[1,2,3,4,5],[6,7,8,9,10], [3,2,1,4,2]])\n",
    "\n",
    "print('row : 2, col : 2 = ' ,arr1[2,2])\n",
    "print(f'row : 전체, col : 2 ~ 3까지 : \\n', arr1[ : , 2 : 4])\n"
   ]
  },
  {
   "cell_type": "markdown",
   "metadata": {},
   "source": [
    "### 2D ndarray에서 axis 개념을 통해서 축을 결정가능하다."
   ]
  },
  {
   "cell_type": "code",
   "execution_count": 42,
   "metadata": {},
   "outputs": [
    {
     "name": "stdout",
     "output_type": "stream",
     "text": [
      "===== 1D =====\n",
      "6\n",
      "===== 2D =====\n",
      "[5 7 9]\n",
      "[ 6 15]\n",
      "===== 3D =====\n",
      "[[10  5]\n",
      " [ 9  9]]\n",
      "[[4 6]\n",
      " [8 3]\n",
      " [7 5]]\n",
      "[[3 7]\n",
      " [6 5]\n",
      " [6 6]]\n"
     ]
    }
   ],
   "source": [
    "# 1D 에서는 axis = 0 한개 뿐이다.\n",
    "print('===== 1D =====')\n",
    "arr1 = np.array([1,2,3])\n",
    "print(arr1.sum(axis= 0))\n",
    "\n",
    "# 2D 에서는 axis = 0, 1 2개가 존재한다.\n",
    "print('===== 2D =====')\n",
    "\n",
    "arr2 = np.array([[1,2,3], [4,5,6]])\n",
    "print(arr2.sum(axis = 0)) # row 방향으로 \n",
    "print(arr2.sum(axis = 1)) # col 방향으로 \n",
    "# 3D 에서는 axis = = 0, 1, 2 3개가 존재한다.\n",
    "print('===== 3D =====')\n",
    "\n",
    "arr3 = np.array([ [ [1,2],[3,4]], [[4,2], [4,1]] , [[5,1], [2, 4] ] ])\n",
    "print(arr3.sum(axis=0)) # 높이 방향\n",
    "print(arr3.sum(axis = 1)) # row 방향\n",
    "print(arr3.sum(axis = 2)) # col qkdgid"
   ]
  },
  {
   "cell_type": "code",
   "execution_count": 47,
   "metadata": {},
   "outputs": [
    {
     "name": "stdout",
     "output_type": "stream",
     "text": [
      "arr[0] : [[1 2]\n",
      " [3 4]]\n",
      "arr[1] : [[4 2]\n",
      " [4 1]]\n",
      "arr[2] : [[5 1]\n",
      " [2 4]]\n",
      "\n",
      "\n",
      "\n",
      "arr[0][0] :  [1 2]\n",
      "\n",
      "\n",
      "\n",
      "arr[0][0][0] :  1\n"
     ]
    }
   ],
   "source": [
    "arr = np.array([ [ [1,2],[3,4]], [[4,2], [4,1]] , [[5,1], [2, 4] ] ])\n",
    "\n",
    "print(f'arr[0] :', arr[0])\n",
    "print(f'arr[1] :', arr[1])\n",
    "print(f'arr[2] :', arr[2])\n",
    "\n",
    "print('\\n\\n')\n",
    "\n",
    "print(f'arr[0][0] : ', arr[0][0])\n",
    "\n",
    "print('\\n\\n')\n",
    "print(f'arr[0][0][0] : ', arr[0][0][0])"
   ]
  },
  {
   "cell_type": "markdown",
   "metadata": {},
   "source": [
    "### 팬시 인덱스 참조 ( 정수나 boolen으로 이루어진 배열로 다른 배열을 참조하는 기능을 의미)"
   ]
  },
  {
   "cell_type": "code",
   "execution_count": 48,
   "metadata": {},
   "outputs": [
    {
     "name": "stdout",
     "output_type": "stream",
     "text": [
      "[1 3 5 7 9]\n"
     ]
    }
   ],
   "source": [
    "arr1 = np.array([1,2,3,4,5,6,7,8,9,10])\n",
    "arr2 = np.array([0, 2, 4, 6, 8])\n",
    "\n",
    "print(arr1[arr2]) # 다음과 같이 다른 ndarray를 사용해서 원하는 index의 값만을 사용 가능하다.\n"
   ]
  },
  {
   "cell_type": "markdown",
   "metadata": {},
   "source": [
    "### 전치 행렬 "
   ]
  },
  {
   "cell_type": "code",
   "execution_count": 58,
   "metadata": {},
   "outputs": [
    {
     "name": "stdout",
     "output_type": "stream",
     "text": [
      "(4, 6)\n",
      "(6, 4)\n",
      "_____________________________________________________________________\n",
      "(4, 6)\n",
      "(6, 4)\n",
      "_____________________________________________________________________\n",
      "(4, 6)\n",
      "(6, 4)\n"
     ]
    }
   ],
   "source": [
    "# .T 를 사용해서 전치를 표현할 수 있다.\n",
    "arr = np.random.randint(0, 100, (4, 6))\n",
    "print(arr.shape)\n",
    "arrT = arr.T\n",
    "print(arrT.shape)\n",
    "\n",
    "print('_____________________________________________________________________')\n",
    "# .transpose()를 사용해서 전치를 표현할 수 있다.\n",
    "arr = np.random.randint(0, 100, (4, 6))\n",
    "print(arr.shape)\n",
    "arrT = np.transpose(arr)\n",
    "print(arrT.shape)\n",
    "print('_____________________________________________________________________')\n",
    "\n",
    "arr = np.random.randint(0, 100, (4, 6))\n",
    "print(arr.shape)\n",
    "arrT = np.swapaxes(arr, 0, 1)\n",
    "print(arrT.shape)"
   ]
  },
  {
   "cell_type": "code",
   "execution_count": 67,
   "metadata": {},
   "outputs": [
    {
     "name": "stdout",
     "output_type": "stream",
     "text": [
      "_________________________T______________________________\n",
      "(2, 4, 3, 5, 5, 9)\n",
      "(9, 5, 5, 3, 4, 2)\n",
      "_________________________transpose______________________________\n",
      "(2, 4, 3, 5, 5, 9)\n",
      "(9, 5, 5, 3, 4, 2)\n",
      "_________________________swapaxes__________________________\n",
      "(2, 4, 3, 5, 5, 9)\n",
      "(3, 4, 2, 5, 5, 9)\n"
     ]
    }
   ],
   "source": [
    "# 3D 이상이 되면 transpose()와 swapaxes()는 축을 설정 해줘야한다.\n",
    "print('_________________________T______________________________')\n",
    "\n",
    "arr = np.random.randint(0, 100, (2,4,3,5,5,9))\n",
    "print(arr.shape)\n",
    "arrT = arr.T\n",
    "print(arrT.shape)\n",
    "print('_________________________transpose______________________________')\n",
    "\n",
    "arr = np.random.randint(0, 100, (2,4,3,5,5,9))\n",
    "print(arr.shape)\n",
    "arrT = np.transpose(arr)\n",
    "print(arrT.shape)\n",
    "\n",
    "print('_________________________swapaxes__________________________')\n",
    "arr = np.random.randint(0, 100, (2,4,3,5,5,9))\n",
    "print(arr.shape)\n",
    "arrT = np.swapaxes(arr, 0, 2) # 교체를 원하는 축을 입력하게 됩니다.\n",
    "print(arrT.shape)\n"
   ]
  },
  {
   "cell_type": "markdown",
   "metadata": {},
   "source": [
    "### 정렬"
   ]
  },
  {
   "cell_type": "code",
   "execution_count": 76,
   "metadata": {},
   "outputs": [
    {
     "name": "stdout",
     "output_type": "stream",
     "text": [
      "# 1D 에서 정렬하기\n",
      "[1 2 3 4 5]\n",
      "[5 4 3 2 1]\n",
      "# 2D에서 축별로 정렬하기\n",
      "[[1 3 2]\n",
      " [9 5 6]]\n",
      "[[1 2 3]\n",
      " [5 6 9]]\n"
     ]
    }
   ],
   "source": [
    "print('# 1D 에서 정렬하기')\n",
    "arr = np.array([1,2,3,4,5])\n",
    "print(np.sort(arr))\n",
    "print(np.sort(arr)[::-1])\n",
    "\n",
    "print('# 2D에서 축별로 정렬하기')\n",
    "arr= np.array([[1,3,2],[9,5,6]])\n",
    "print(np.sort(arr, axis = 0))\n",
    "print(np.sort(arr, axis = 1))\n"
   ]
  },
  {
   "cell_type": "markdown",
   "metadata": {},
   "source": [
    "### 행렬 계산"
   ]
  },
  {
   "cell_type": "code",
   "execution_count": 83,
   "metadata": {},
   "outputs": [
    {
     "name": "stdout",
     "output_type": "stream",
     "text": [
      "(2, 2)\n",
      "(2, 4, 4, 3, 2, 3, 9, 2, 2, 2, 5, 10)\n"
     ]
    }
   ],
   "source": [
    "# .dot()을 활용하게 된다.\n",
    "arr1 = np.random.randint(1, 100, (2,4))\n",
    "arr2 = np.random.randint(1, 100, (4,2))\n",
    "print(arr1.dot(arr2).shape)\n",
    "\n",
    "arr1 = np.random.randint(1, 100, (2,4,4,3,2,3,4))\n",
    "arr2 = np.random.randint(1, 100, (9,2,2,2,5,4,10))\n",
    "print(arr1.dot(arr2).shape)"
   ]
  },
  {
   "cell_type": "markdown",
   "metadata": {},
   "source": [
    "### 통계 함수 ( mean, max, argmax, argmin)"
   ]
  },
  {
   "cell_type": "code",
   "execution_count": 89,
   "metadata": {},
   "outputs": [
    {
     "name": "stdout",
     "output_type": "stream",
     "text": [
      "meam axis = 0 : [2.5 2.  4.  2.5 3.5 5.  9.5]\n",
      "argmax axis = 0 : [1 0 1 0 0 0 1]\n",
      "argmax axis = 1 : [6 6]\n"
     ]
    }
   ],
   "source": [
    "arr = np.array([[1,2,3,4,5,6,7], [4,2,5,1,2,4,12]])\n",
    "print(f'meam axis = 0 : {np.mean(arr, axis=0)}')\n",
    "\n",
    "# argmax의 경우 값이 가장 큰 element의 index를 반환한다.\n",
    "print(f'argmax axis = 0 : {np.argmax(arr, axis=0)}')\n",
    "print(f'argmax axis = 1 : {np.argmax(arr, axis=1)}')\n",
    "\n"
   ]
  },
  {
   "cell_type": "markdown",
   "metadata": {},
   "source": [
    "### 브로드캐스트"
   ]
  },
  {
   "cell_type": "code",
   "execution_count": 90,
   "metadata": {},
   "outputs": [
    {
     "name": "stdout",
     "output_type": "stream",
     "text": [
      "arr1:\n",
      " [[1 2 3]\n",
      " [4 5 6]]\n",
      "arr2: [10 20 30]\n",
      "Result of broadcasting:\n",
      " [[11 22 33]\n",
      " [14 25 36]]\n"
     ]
    }
   ],
   "source": [
    "import numpy as np\n",
    "\n",
    "# 2D 배열\n",
    "arr1 = np.array([[1, 2, 3],\n",
    "                 [4, 5, 6]])\n",
    "\n",
    "# 1D 배열\n",
    "arr2 = np.array([10, 20, 30])\n",
    "\n",
    "# 브로드캐스팅을 통한 더하기 연산\n",
    "result = arr1 + arr2\n",
    "\n",
    "print(\"arr1:\\n\", arr1)\n",
    "print(\"arr2:\", arr2)\n",
    "print(\"Result of broadcasting:\\n\", result)"
   ]
  },
  {
   "cell_type": "code",
   "execution_count": 94,
   "metadata": {},
   "outputs": [
    {
     "name": "stdout",
     "output_type": "stream",
     "text": [
      "(2, 4, 3, 5, 2)\n"
     ]
    }
   ],
   "source": [
    "arr1 = np.random.randint(1, 100, (2,4,3,5,2))\n",
    "arr2 = np.random.randint(1, 100, (2,4,3,5,1))\n",
    "\n",
    "print((arr1 + arr2).shape)"
   ]
  }
 ],
 "metadata": {
  "kernelspec": {
   "display_name": "fastapi",
   "language": "python",
   "name": "python3"
  },
  "language_info": {
   "codemirror_mode": {
    "name": "ipython",
    "version": 3
   },
   "file_extension": ".py",
   "mimetype": "text/x-python",
   "name": "python",
   "nbconvert_exporter": "python",
   "pygments_lexer": "ipython3",
   "version": "3.12.2"
  }
 },
 "nbformat": 4,
 "nbformat_minor": 2
}
