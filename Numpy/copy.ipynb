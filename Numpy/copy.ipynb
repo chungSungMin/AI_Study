{
 "cells": [
  {
   "cell_type": "markdown",
   "metadata": {},
   "source": [
    "### ndarray의 경우 array와 다르게 view 형식으로 데이터를 복사하기 때문에 원본의 주소를 지정하기에 원본이 바뀔수 있다."
   ]
  },
  {
   "cell_type": "code",
   "execution_count": 5,
   "metadata": {},
   "outputs": [
    {
     "name": "stdout",
     "output_type": "stream",
     "text": [
      "[1 2 3 4]\n",
      "arr1 :  [100 100   3   4]\n",
      "arr2  [100 100   3   4]\n"
     ]
    }
   ],
   "source": [
    "import numpy as np\n",
    "\n",
    "arr1 = np.array([1,2,3,4])\n",
    "print(arr1)\n",
    "\n",
    "arr2 = arr1\n",
    "arr2[: 2] = 100\n",
    "\n",
    "print(f'arr1 : ',arr1)\n",
    "print(f'arr2 ', arr2)"
   ]
  },
  {
   "cell_type": "code",
   "execution_count": 6,
   "metadata": {},
   "outputs": [
    {
     "name": "stdout",
     "output_type": "stream",
     "text": [
      "[1 2 3 4]\n",
      "arr1 :  [1 2 3 4]\n",
      "arr2  [100 100   3   4]\n"
     ]
    }
   ],
   "source": [
    "import numpy as np\n",
    "\n",
    "arr1 = np.array([1,2,3,4])\n",
    "print(arr1)\n",
    "\n",
    "arr2 = arr1.copy()\n",
    "arr2[: 2] = 100\n",
    "\n",
    "print(f'arr1 : ',arr1)\n",
    "print(f'arr2 ', arr2)"
   ]
  },
  {
   "cell_type": "code",
   "execution_count": null,
   "metadata": {},
   "outputs": [],
   "source": []
  }
 ],
 "metadata": {
  "language_info": {
   "name": "python"
  }
 },
 "nbformat": 4,
 "nbformat_minor": 2
}
