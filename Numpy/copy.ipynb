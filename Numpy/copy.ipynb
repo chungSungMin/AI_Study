{
 "cells": [
  {
   "cell_type": "markdown",
   "metadata": {},
   "source": [
    "### Numpy의 경우 array를 단순히 대입하게 되면 원본 array에도 영향이 가기 때문에 copy를 활용해서 대입해주어야합니다."
   ]
  },
  {
   "cell_type": "code",
   "execution_count": 2,
   "metadata": {},
   "outputs": [
    {
     "name": "stdout",
     "output_type": "stream",
     "text": [
      "arr1 : [100 100   3]\n",
      "arr2 : [100 100   3]\n"
     ]
    }
   ],
   "source": [
    "import numpy as np\n",
    "\n",
    "arr1 = np.array([1,2,3])\n",
    "arr2 = arr1\n",
    "arr2[ : 2] = 100\n",
    "\n",
    "print(f'arr1 : {arr1}')\n",
    "print(f'arr2 : {arr2}')"
   ]
  },
  {
   "cell_type": "markdown",
   "metadata": {},
   "source": [
    "### ndarray의 경우 array와 다르게 view를 사용해서 원본 ndarray의 주소를 참조하기 때문에 copy()를 사용하지 않는다면 원본 ndarray가 변화되게 됩니다."
   ]
  },
  {
   "cell_type": "code",
   "execution_count": 3,
   "metadata": {},
   "outputs": [
    {
     "name": "stdout",
     "output_type": "stream",
     "text": [
      "arr1 : [1 2 3]\n",
      "arr2 : [100 100   3]\n"
     ]
    }
   ],
   "source": [
    "arr1 = np.array([1,2,3])\n",
    "arr2 = arr1.copy()\n",
    "arr2[:2] = 100\n",
    "\n",
    "print(f'arr1 : {arr1}')\n",
    "print(f'arr2 : {arr2}')"
   ]
  },
  {
   "cell_type": "code",
   "execution_count": null,
   "metadata": {},
   "outputs": [],
   "source": []
  }
 ],
 "metadata": {
  "kernelspec": {
   "display_name": "fastapi",
   "language": "python",
   "name": "python3"
  },
  "language_info": {
   "codemirror_mode": {
    "name": "ipython",
    "version": 3
   },
   "file_extension": ".py",
   "mimetype": "text/x-python",
   "name": "python",
   "nbconvert_exporter": "python",
   "pygments_lexer": "ipython3",
   "version": "3.12.2"
  }
 },
 "nbformat": 4,
 "nbformat_minor": 2
}
